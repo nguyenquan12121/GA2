{
 "cells": [
  {
   "cell_type": "markdown",
   "metadata": {},
   "source": [
    "# Graded Assignment 2 - Air Quality and Weather in the Netherlands"
   ]
  },
  {
   "cell_type": "markdown",
   "metadata": {},
   "source": [
    "\n",
    "# Introduction to This Template Notebook\n",
    "\n",
    "* This is a **group** notebook.\n",
    "* Make sure you work in a **copy** of `...-template.ipynb`,\n",
    "**renamed** to `...-yourIDnrs.ipynb`,\n",
    "where `yourIDnrs` is the TU/e identification numbers of the members of the group.\n",
    "\n",
    "<div class=\"alert alert-danger\" role=\"danger\">\n",
    "<h3>Integrity</h3>\n",
    "<ul>\n",
    "    <li>In this course you must act according to the rules of the TU/e code of scientific conduct.</li>\n",
    "    <li>This exercise or graded assignment is to be executed by the members of the group independently from other people.</li>\n",
    "    <li>You must not copy from the Internet, your friends, books... If you represent other people's work as your own, then that constitutes fraud and will be reported to the Examination Committee.</li>\n",
    "    <li>Making your work available to others (complicity) also constitutes fraud.</li>\n",
    "</ul>\n",
    "</div>\n",
    "\n",
    "You are expected to work with Python code and Markdown in this notebook.\n",
    "\n",
    "Proceed in this notebook as follows:\n",
    "* **Read** the assignment (separate PDF).\n",
    "* **Write** your decisions/solutions/interpretations in the appropriate sections.\n",
    "  * For this you can use both Code and Markdown cells. Information about how to use these cells is available in the _Getting Started_ assignment.\n",
    "* **Run** _all_ code cells (also the ones _without_ your code),\n",
    "    _in linear order_ from the first code cell.\n",
    "\n",
    "**Personalize your notebook**:\n",
    "1. Copy the following line of code:\n",
    "\n",
    "  ```python\n",
    "  AUTHOR_ID_NRS = ['1234567', '2234567', '3234567', '4234567']\n",
    "  ```\n",
    "1. Paste them between the marker lines in the next code cell.\n",
    "1. Fill in the _identification numbers_ of all members of the group as a list of strings between the `Author` markers.\n",
    "1. Run the code cell by putting the cursor there and typing **Control-Enter**.\n"
   ]
  },
  {
   "cell_type": "code",
   "execution_count": 1,
   "metadata": {},
   "outputs": [],
   "source": [
    "#// BEGIN_TODO [Author] Name, Id.nr., Date, as strings (1 point)\n",
    "\n",
    "AUTHOR_ID_NRS = ['1951432', '1704311', '1989200', '2021021']\n",
    "\n",
    "#// END_TODO [Author]"
   ]
  },
  {
   "cell_type": "markdown",
   "metadata": {},
   "source": [
    "## Table of Contents\n",
    "\n",
    "- [Preparation](#Preparation)\n",
    "    - [Load the libraries](#Load-the-libraries)\n",
    "- [Part 1a. Hypothesis selection](#Part-1a:-Hypothesis-selection)\n",
    "- [Part 1b. Hypothesis refinement](#Part-1b:-Hypothesis-refinement)\n",
    "- [Part 2. Queries and data cleaning](#Part-2:-Queries-and-data-cleaning)\n",
    "- [Part 3. Hypothesis testing and interpretation](#Part-3.-Hypothesis-testing-and-interpretation)\n",
    "- [Part 4. Pitching results](#Part-4.-Pitching-results)"
   ]
  },
  {
   "cell_type": "markdown",
   "metadata": {},
   "source": [
    "## Preparation\n",
    "### Load the libraries"
   ]
  },
  {
   "cell_type": "code",
   "execution_count": 2,
   "metadata": {},
   "outputs": [],
   "source": [
    "import numpy as np\n",
    "import pandas as pd\n",
    "\n",
    "from sklearn.linear_model import LinearRegression         # for linear regression\n",
    "from sklearn.cluster import KMeans                        # for clustering\n",
    "from sklearn.tree import DecisionTreeClassifier           # for decision tree mining\n",
    "from sklearn.metrics import mean_absolute_error, confusion_matrix\n",
    "from sklearn.model_selection import train_test_split\n",
    "from treeviz import tree_print                            # to print decision tree\n",
    "\n",
    "import scipy.stats as stats                               # to compute z-scores\n",
    "from scipy.interpolate import interp1d\n",
    "from scipy.ndimage import gaussian_filter1d\n",
    "import sqlite3                                            # to interact with the database\n",
    "import statsmodels.api as sm\n",
    "from statsmodels.distributions.empirical_distribution import ECDF\n",
    "\n",
    "%matplotlib inline                                 \n",
    "import matplotlib as mpl\n",
    "import matplotlib.pyplot as plt\n",
    "import seaborn as sns                                     # also improves the look of plots\n",
    "sns.set()\n",
    "plt.rcParams['figure.figsize'] = 10, 5                    # default hor./vert. size of plots, in inches\n",
    "plt.rcParams['lines.markeredgewidth'] = 1                 # to fix issue with seaborn box plots; needed after import seaborn"
   ]
  },
  {
   "cell_type": "markdown",
   "metadata": {
    "tags": []
   },
   "source": [
    "## Part 1a: Hypothesis selection"
   ]
  },
  {
   "cell_type": "markdown",
   "metadata": {},
   "source": [
    "The below three Hypotheses had been developed during the first lab session and the first one was approved by our tutor:\n",
    "1. **The seaside areas (coastal stations in noord-holland and zuid-holland) have windier weather condition compared to the inland areas. The assumption can be made from the collected data that specific stations indeed show results of less concentration of certain air comounds in the Netherlands based on wind factors since wind blows away the air compounds away which leads to a higher variability in their concentrations).**\n",
    "2. A number of studies have found that the same compound reacts to different weather factors in a different way. The combinations of meteorological factors with similar characteristics can be studied and be grouped together by data mining and cleaning.\n",
    "3. The heavier compounds are less affected by the weather factors. (They have a greater effect on the environment they are residing in, so that region will see lower weather factor scores compared to other regions)."
   ]
  },
  {
   "cell_type": "markdown",
   "metadata": {},
   "source": [
    "## Part 1b: Hypothesis refinement"
   ]
  },
  {
   "cell_type": "markdown",
   "metadata": {},
   "source": [
    "#### The approved hypothesis from part 1a has been refined as follows:"
   ]
  },
  {
   "cell_type": "markdown",
   "metadata": {},
   "source": [
    "The seaside areas (coastal stations in noord-holland and zuid-holland) have windier weather condition compared to the inland areas. The assumption can be made from the collected data that specific stations indeed show results of less concentration of certain air comounds in the Netherlands based on wind factors like `wind_speed`, `wind_direction`, and `wind_gusts` (wind blows away the air compounds away which leads to a higher variability in their concentrations)."
   ]
  },
  {
   "cell_type": "markdown",
   "metadata": {},
   "source": [
    "Because we need to compare the data in different regions, the selected air quality (AQ) stations in coastal region are `NL10444` and `NL10538`; and the stations in eastern inland areas are `NL10133` and `NL10738` (regarding the refined hypothesis).\n",
    "\n",
    "Nitrogen oxide ($\\mathrm{NO_x}$), nitrogen dioxide ($\\mathrm{NO_2}$), and ground-level ozone ($\\mathrm{O_3}$) are chosen among the air compounds available in the dataset."
   ]
  },
  {
   "cell_type": "markdown",
   "metadata": {},
   "source": [
    "**Our approach, outlining how we plan to go from hypothesis to result.**"
   ]
  },
  {
   "cell_type": "markdown",
   "metadata": {},
   "source": [
    "## Part 2: Queries and data cleaning"
   ]
  },
  {
   "cell_type": "code",
   "execution_count": 3,
   "metadata": {},
   "outputs": [],
   "source": [
    "# Part 2 code blocks were written by Szonja and Youjung"
   ]
  },
  {
   "cell_type": "markdown",
   "metadata": {},
   "source": [
    "### Dataset \n",
    "This section presents the description of the air compounds considered in the air quality dataset, as well as the description of the `df_data` data frame used throughout the assignment.\n",
    "\n",
    "### Air Compounds \n",
    "The air compounds collected by the air quality stations are listed below.\n",
    "\n",
    "| Name | Description |\n",
    "|------|:------------|\n",
    "| no_x | Nitrogen oxides ($\\mathrm{NO_x}$) concentration in $\\mu \\mathrm{g / m}^3$ |\n",
    "| no_2 | Nitrogen dioxide ($\\mathrm{NO_2}$) concentration in $\\mu \\mathrm{g / m}^3$ |\n",
    "| o_3  | Ground-level ozone ($\\mathrm{O_3}$) concentration in $\\mu \\mathrm{g / m}^3$ |\n",
    "\n",
    "### The `df_data` Data Frame\n",
    "\n",
    "In this assignment, the main dataset will be read in for you. After reading in the data, there will be a dataframe `df_data` with the following description. It is indexed by the column `datetime`.\n",
    "\n",
    "|Column  | Type | Description | \n",
    "|:-------|:----|:----|\n",
    "| datetime | datetime | The local time (Europe/Amsterdam) when the measurement was collected |\n",
    "| `compound1` | float | The concentration of the first air compound expressed in $\\mu \\mathrm{g / m}^3$|\n",
    "| `compound2` | float | The concentration of the second air compound expressed in $\\mu \\mathrm{g / m}^3$|\n",
    "| wind_direction | int | Mean wind direction (in degrees) during the 10-minute period preceding the time of observation (360=north, 90=east, 180=south, 270=west, 0=calm 990=variable) |\n",
    "| wind_speed | float | Mean wind speed (in m/s) during the 10-minute period preceding the time of observation |\n",
    "| wind_gust | float | Maximum wind gust (in m/s) during the hourly division |\n",
    "| year | int | The year in which the measurement occurred |\n",
    "| month | int | The month in which the measurement occurred |\n",
    "| week | int | The week number according to the ISO 8601 standard in which the measurement occurred |\n",
    "| day_of_year | int | The day of the year counting from the $1^\\text{st}$ of January in the range from 1 to 365 or 366 (in case of a leap year) in which the measurement occurred |\n",
    "| hour | int | The hour of the day in which the measurement occurred |"
   ]
  },
  {
   "cell_type": "markdown",
   "metadata": {},
   "source": [
    "### Assignment Personalisation\n",
    "This group assignment 2 is personalised and three aforementioned compounds measured in 4 air quality stations will be used in this report. We will make sure the nearest weather stations for each AQ station are in reasonable distance in the following codes."
   ]
  },
  {
   "cell_type": "code",
   "execution_count": 4,
   "metadata": {},
   "outputs": [],
   "source": [
    "# Coastal station codes\n",
    "aq_station_code_1 = 'NL10444'\n",
    "aq_station_code_2 = 'NL10538'\n",
    "\n",
    "# Inland station codes\n",
    "aq_station_code_3 = 'NL10133'\n",
    "aq_station_code_4 = 'NL10738'\n",
    "\n",
    "# Air compounds\n",
    "compound1 = 'no_x'\n",
    "compound2 = 'no_2'\n",
    "compound3 = 'o_3'"
   ]
  },
  {
   "cell_type": "markdown",
   "metadata": {},
   "source": [
    "### Loading Data\n",
    "\n",
    "This jupyter notebook has to be run in same directory of 2IAB1_GA2 to properly load the dataset."
   ]
  },
  {
   "cell_type": "code",
   "execution_count": 5,
   "metadata": {},
   "outputs": [],
   "source": [
    "# Define wind factors\n",
    "WEATHER_FACTORS = ['wind_direction', 'wind_speed', 'wind_gust']"
   ]
  },
  {
   "cell_type": "markdown",
   "metadata": {},
   "source": [
    "#### Closest weather station of air quality station 1:"
   ]
  },
  {
   "cell_type": "code",
   "execution_count": 6,
   "metadata": {
    "scrolled": true
   },
   "outputs": [
    {
     "name": "stdout",
     "output_type": "stream",
     "text": [
      "The closest weather station to your air quality station 1 NL10444 is station 240, with a distance of 19.1 kilometers.\n"
     ]
    }
   ],
   "source": [
    "# Path to the database\n",
    "db_path = 'datasets/aqw.db'\n",
    "\n",
    "# Connect to database\n",
    "cnx = sqlite3.connect(db_path)\n",
    "\n",
    "QUERY_WEATHER_STATION_1 = f\"\"\"\n",
    "    SELECT aq_station_code, weather_station_code, distance \n",
    "    FROM close_stations \n",
    "    WHERE aq_station_code='{aq_station_code_1}'\n",
    "    GROUP BY aq_station_code\n",
    "\"\"\"\n",
    "\n",
    "# Get the closest weather station info\n",
    "closest_weather_info_1 = pd.read_sql_query(QUERY_WEATHER_STATION_1, cnx).squeeze()\n",
    "\n",
    "# Extract weather code from the SQL result\n",
    "weather_station_code_1 = int(closest_weather_info_1['weather_station_code'])\n",
    "\n",
    "# Extract weather station distance from the SQL result\n",
    "aq_weather_distance_1 = closest_weather_info_1['distance']\n",
    "\n",
    "print(f'The closest weather station to your air quality station 1 {aq_station_code_1} is station '\n",
    "      f'{weather_station_code_1}, with a distance of {aq_weather_distance_1} kilometers.')"
   ]
  },
  {
   "cell_type": "markdown",
   "metadata": {},
   "source": [
    "#### Extracting air quality and weather data of air quality station 1:"
   ]
  },
  {
   "cell_type": "code",
   "execution_count": 7,
   "metadata": {},
   "outputs": [
    {
     "data": {
      "text/html": [
       "<div>\n",
       "<style scoped>\n",
       "    .dataframe tbody tr th:only-of-type {\n",
       "        vertical-align: middle;\n",
       "    }\n",
       "\n",
       "    .dataframe tbody tr th {\n",
       "        vertical-align: top;\n",
       "    }\n",
       "\n",
       "    .dataframe thead th {\n",
       "        text-align: right;\n",
       "    }\n",
       "</style>\n",
       "<table border=\"1\" class=\"dataframe\">\n",
       "  <thead>\n",
       "    <tr style=\"text-align: right;\">\n",
       "      <th></th>\n",
       "      <th>no_x</th>\n",
       "      <th>no_2</th>\n",
       "      <th>o_3</th>\n",
       "      <th>wind_direction</th>\n",
       "      <th>wind_speed</th>\n",
       "      <th>wind_gust</th>\n",
       "      <th>station_code</th>\n",
       "      <th>year</th>\n",
       "      <th>month</th>\n",
       "      <th>day_of_year</th>\n",
       "      <th>week</th>\n",
       "      <th>hour</th>\n",
       "    </tr>\n",
       "    <tr>\n",
       "      <th>datetime</th>\n",
       "      <th></th>\n",
       "      <th></th>\n",
       "      <th></th>\n",
       "      <th></th>\n",
       "      <th></th>\n",
       "      <th></th>\n",
       "      <th></th>\n",
       "      <th></th>\n",
       "      <th></th>\n",
       "      <th></th>\n",
       "      <th></th>\n",
       "      <th></th>\n",
       "    </tr>\n",
       "  </thead>\n",
       "  <tbody>\n",
       "    <tr>\n",
       "      <th>2021-12-31 19:00:00+01:00</th>\n",
       "      <td>43.93</td>\n",
       "      <td>10.89</td>\n",
       "      <td>43.11</td>\n",
       "      <td>240</td>\n",
       "      <td>7.0</td>\n",
       "      <td>12.0</td>\n",
       "      <td>NL10444</td>\n",
       "      <td>2021</td>\n",
       "      <td>12</td>\n",
       "      <td>365</td>\n",
       "      <td>53</td>\n",
       "      <td>19</td>\n",
       "    </tr>\n",
       "    <tr>\n",
       "      <th>2021-12-31 20:00:00+01:00</th>\n",
       "      <td>38.65</td>\n",
       "      <td>9.33</td>\n",
       "      <td>45.90</td>\n",
       "      <td>240</td>\n",
       "      <td>7.0</td>\n",
       "      <td>11.0</td>\n",
       "      <td>NL10444</td>\n",
       "      <td>2021</td>\n",
       "      <td>12</td>\n",
       "      <td>365</td>\n",
       "      <td>53</td>\n",
       "      <td>20</td>\n",
       "    </tr>\n",
       "    <tr>\n",
       "      <th>2021-12-31 21:00:00+01:00</th>\n",
       "      <td>34.87</td>\n",
       "      <td>12.86</td>\n",
       "      <td>42.66</td>\n",
       "      <td>240</td>\n",
       "      <td>7.0</td>\n",
       "      <td>13.0</td>\n",
       "      <td>NL10444</td>\n",
       "      <td>2021</td>\n",
       "      <td>12</td>\n",
       "      <td>365</td>\n",
       "      <td>53</td>\n",
       "      <td>21</td>\n",
       "    </tr>\n",
       "    <tr>\n",
       "      <th>2021-12-31 22:00:00+01:00</th>\n",
       "      <td>35.66</td>\n",
       "      <td>10.46</td>\n",
       "      <td>45.63</td>\n",
       "      <td>230</td>\n",
       "      <td>6.0</td>\n",
       "      <td>11.0</td>\n",
       "      <td>NL10444</td>\n",
       "      <td>2021</td>\n",
       "      <td>12</td>\n",
       "      <td>365</td>\n",
       "      <td>53</td>\n",
       "      <td>22</td>\n",
       "    </tr>\n",
       "    <tr>\n",
       "      <th>2021-12-31 23:00:00+01:00</th>\n",
       "      <td>36.35</td>\n",
       "      <td>11.29</td>\n",
       "      <td>45.89</td>\n",
       "      <td>210</td>\n",
       "      <td>5.0</td>\n",
       "      <td>9.0</td>\n",
       "      <td>NL10444</td>\n",
       "      <td>2021</td>\n",
       "      <td>12</td>\n",
       "      <td>365</td>\n",
       "      <td>53</td>\n",
       "      <td>23</td>\n",
       "    </tr>\n",
       "  </tbody>\n",
       "</table>\n",
       "</div>"
      ],
      "text/plain": [
       "                            no_x   no_2    o_3  wind_direction  wind_speed  \\\n",
       "datetime                                                                     \n",
       "2021-12-31 19:00:00+01:00  43.93  10.89  43.11             240         7.0   \n",
       "2021-12-31 20:00:00+01:00  38.65   9.33  45.90             240         7.0   \n",
       "2021-12-31 21:00:00+01:00  34.87  12.86  42.66             240         7.0   \n",
       "2021-12-31 22:00:00+01:00  35.66  10.46  45.63             230         6.0   \n",
       "2021-12-31 23:00:00+01:00  36.35  11.29  45.89             210         5.0   \n",
       "\n",
       "                           wind_gust station_code  year  month  day_of_year  \\\n",
       "datetime                                                                      \n",
       "2021-12-31 19:00:00+01:00       12.0      NL10444  2021     12          365   \n",
       "2021-12-31 20:00:00+01:00       11.0      NL10444  2021     12          365   \n",
       "2021-12-31 21:00:00+01:00       13.0      NL10444  2021     12          365   \n",
       "2021-12-31 22:00:00+01:00       11.0      NL10444  2021     12          365   \n",
       "2021-12-31 23:00:00+01:00        9.0      NL10444  2021     12          365   \n",
       "\n",
       "                           week  hour  \n",
       "datetime                               \n",
       "2021-12-31 19:00:00+01:00    53    19  \n",
       "2021-12-31 20:00:00+01:00    53    20  \n",
       "2021-12-31 21:00:00+01:00    53    21  \n",
       "2021-12-31 22:00:00+01:00    53    22  \n",
       "2021-12-31 23:00:00+01:00    53    23  "
      ]
     },
     "execution_count": 7,
     "metadata": {},
     "output_type": "execute_result"
    }
   ],
   "source": [
    "QUERY_AQ_1 = f\"\"\"\n",
    "    SELECT datetime, {', '.join((compound1, compound2, compound3))} \n",
    "    FROM air_quality_data \n",
    "    WHERE station_code='{aq_station_code_1}'\n",
    "\"\"\"\n",
    "\n",
    "# Get compound1, compound2 and compound3 info of the air quality station 1\n",
    "df_aq_1 = pd.read_sql_query(QUERY_AQ_1, cnx, \n",
    "                          index_col='datetime', \n",
    "                          parse_dates=['datetime'])\n",
    "\n",
    "QUERY_WEATHER_1 = f\"\"\"\n",
    "    SELECT datetime, {', '.join(WEATHER_FACTORS)} \n",
    "    FROM weather_data \n",
    "    WHERE station_code={weather_station_code_1}\n",
    "\"\"\"\n",
    "\n",
    "# Get weather data of the closest weather station\n",
    "df_weather_1 = pd.read_sql_query(QUERY_WEATHER_1, cnx, \n",
    "                               index_col='datetime', \n",
    "                               parse_dates=['datetime'])\n",
    "\n",
    "# Combine air quality data and weather data for convenience\n",
    "df_station1 = df_aq_1.join(df_weather_1, how='outer')\n",
    "\n",
    "# Create time-related columns\n",
    "df_station1['station_code'] = aq_station_code_1\n",
    "df_station1['year'] = df_station1.index.year\n",
    "df_station1['month'] = df_station1.index.month\n",
    "df_station1['day_of_year'] = df_station1.index.dayofyear\n",
    "df_station1['week'] = df_station1['day_of_year'] // 7 + 1\n",
    "df_station1['hour'] = df_station1.index.hour\n",
    "\n",
    "# Show the last rows of the database\n",
    "df_station1.tail()"
   ]
  },
  {
   "cell_type": "markdown",
   "metadata": {},
   "source": [
    "#### Closest weather station of air quality station 2:"
   ]
  },
  {
   "cell_type": "code",
   "execution_count": 8,
   "metadata": {},
   "outputs": [
    {
     "name": "stdout",
     "output_type": "stream",
     "text": [
      "The closest weather station to your air quality station 2 NL10538 is station 235, with a distance of 22.8 kilometers.\n"
     ]
    }
   ],
   "source": [
    "QUERY_WEATHER_STATION_2 = f\"\"\"\n",
    "    SELECT aq_station_code, weather_station_code, distance \n",
    "    FROM close_stations \n",
    "    WHERE aq_station_code='{aq_station_code_2}'\n",
    "    GROUP BY aq_station_code\n",
    "\"\"\"\n",
    "\n",
    "# Get the closest weather station info\n",
    "closest_weather_info_2 = pd.read_sql_query(QUERY_WEATHER_STATION_2, cnx).squeeze()\n",
    "\n",
    "# Extract weather code from the SQL result\n",
    "weather_station_code_2 = int(closest_weather_info_2['weather_station_code'])\n",
    "\n",
    "# Extract weather station distance from the SQL result\n",
    "aq_weather_distance_2 = closest_weather_info_2['distance']\n",
    "\n",
    "print(f'The closest weather station to your air quality station 2 {aq_station_code_2} is station '\n",
    "      f'{weather_station_code_2}, with a distance of {aq_weather_distance_2} kilometers.')"
   ]
  },
  {
   "cell_type": "markdown",
   "metadata": {},
   "source": [
    "#### Extracting air quality and weather data of air quality station 2:"
   ]
  },
  {
   "cell_type": "code",
   "execution_count": 9,
   "metadata": {},
   "outputs": [
    {
     "data": {
      "text/html": [
       "<div>\n",
       "<style scoped>\n",
       "    .dataframe tbody tr th:only-of-type {\n",
       "        vertical-align: middle;\n",
       "    }\n",
       "\n",
       "    .dataframe tbody tr th {\n",
       "        vertical-align: top;\n",
       "    }\n",
       "\n",
       "    .dataframe thead th {\n",
       "        text-align: right;\n",
       "    }\n",
       "</style>\n",
       "<table border=\"1\" class=\"dataframe\">\n",
       "  <thead>\n",
       "    <tr style=\"text-align: right;\">\n",
       "      <th></th>\n",
       "      <th>no_x</th>\n",
       "      <th>no_2</th>\n",
       "      <th>o_3</th>\n",
       "      <th>wind_direction</th>\n",
       "      <th>wind_speed</th>\n",
       "      <th>wind_gust</th>\n",
       "      <th>station_code</th>\n",
       "      <th>year</th>\n",
       "      <th>month</th>\n",
       "      <th>day_of_year</th>\n",
       "      <th>week</th>\n",
       "      <th>hour</th>\n",
       "    </tr>\n",
       "    <tr>\n",
       "      <th>datetime</th>\n",
       "      <th></th>\n",
       "      <th></th>\n",
       "      <th></th>\n",
       "      <th></th>\n",
       "      <th></th>\n",
       "      <th></th>\n",
       "      <th></th>\n",
       "      <th></th>\n",
       "      <th></th>\n",
       "      <th></th>\n",
       "      <th></th>\n",
       "      <th></th>\n",
       "    </tr>\n",
       "  </thead>\n",
       "  <tbody>\n",
       "    <tr>\n",
       "      <th>2021-12-31 19:00:00+01:00</th>\n",
       "      <td>19.63</td>\n",
       "      <td>42.10</td>\n",
       "      <td>36.92</td>\n",
       "      <td>240</td>\n",
       "      <td>8.0</td>\n",
       "      <td>11.0</td>\n",
       "      <td>NL10538</td>\n",
       "      <td>2021</td>\n",
       "      <td>12</td>\n",
       "      <td>365</td>\n",
       "      <td>53</td>\n",
       "      <td>19</td>\n",
       "    </tr>\n",
       "    <tr>\n",
       "      <th>2021-12-31 20:00:00+01:00</th>\n",
       "      <td>14.89</td>\n",
       "      <td>16.45</td>\n",
       "      <td>41.32</td>\n",
       "      <td>240</td>\n",
       "      <td>6.0</td>\n",
       "      <td>11.0</td>\n",
       "      <td>NL10538</td>\n",
       "      <td>2021</td>\n",
       "      <td>12</td>\n",
       "      <td>365</td>\n",
       "      <td>53</td>\n",
       "      <td>20</td>\n",
       "    </tr>\n",
       "    <tr>\n",
       "      <th>2021-12-31 21:00:00+01:00</th>\n",
       "      <td>16.04</td>\n",
       "      <td>11.83</td>\n",
       "      <td>41.97</td>\n",
       "      <td>230</td>\n",
       "      <td>7.0</td>\n",
       "      <td>9.0</td>\n",
       "      <td>NL10538</td>\n",
       "      <td>2021</td>\n",
       "      <td>12</td>\n",
       "      <td>365</td>\n",
       "      <td>53</td>\n",
       "      <td>21</td>\n",
       "    </tr>\n",
       "    <tr>\n",
       "      <th>2021-12-31 22:00:00+01:00</th>\n",
       "      <td>13.11</td>\n",
       "      <td>9.71</td>\n",
       "      <td>45.71</td>\n",
       "      <td>230</td>\n",
       "      <td>6.0</td>\n",
       "      <td>10.0</td>\n",
       "      <td>NL10538</td>\n",
       "      <td>2021</td>\n",
       "      <td>12</td>\n",
       "      <td>365</td>\n",
       "      <td>53</td>\n",
       "      <td>22</td>\n",
       "    </tr>\n",
       "    <tr>\n",
       "      <th>2021-12-31 23:00:00+01:00</th>\n",
       "      <td>12.81</td>\n",
       "      <td>10.49</td>\n",
       "      <td>42.13</td>\n",
       "      <td>230</td>\n",
       "      <td>6.0</td>\n",
       "      <td>9.0</td>\n",
       "      <td>NL10538</td>\n",
       "      <td>2021</td>\n",
       "      <td>12</td>\n",
       "      <td>365</td>\n",
       "      <td>53</td>\n",
       "      <td>23</td>\n",
       "    </tr>\n",
       "  </tbody>\n",
       "</table>\n",
       "</div>"
      ],
      "text/plain": [
       "                            no_x   no_2    o_3  wind_direction  wind_speed  \\\n",
       "datetime                                                                     \n",
       "2021-12-31 19:00:00+01:00  19.63  42.10  36.92             240         8.0   \n",
       "2021-12-31 20:00:00+01:00  14.89  16.45  41.32             240         6.0   \n",
       "2021-12-31 21:00:00+01:00  16.04  11.83  41.97             230         7.0   \n",
       "2021-12-31 22:00:00+01:00  13.11   9.71  45.71             230         6.0   \n",
       "2021-12-31 23:00:00+01:00  12.81  10.49  42.13             230         6.0   \n",
       "\n",
       "                           wind_gust station_code  year  month  day_of_year  \\\n",
       "datetime                                                                      \n",
       "2021-12-31 19:00:00+01:00       11.0      NL10538  2021     12          365   \n",
       "2021-12-31 20:00:00+01:00       11.0      NL10538  2021     12          365   \n",
       "2021-12-31 21:00:00+01:00        9.0      NL10538  2021     12          365   \n",
       "2021-12-31 22:00:00+01:00       10.0      NL10538  2021     12          365   \n",
       "2021-12-31 23:00:00+01:00        9.0      NL10538  2021     12          365   \n",
       "\n",
       "                           week  hour  \n",
       "datetime                               \n",
       "2021-12-31 19:00:00+01:00    53    19  \n",
       "2021-12-31 20:00:00+01:00    53    20  \n",
       "2021-12-31 21:00:00+01:00    53    21  \n",
       "2021-12-31 22:00:00+01:00    53    22  \n",
       "2021-12-31 23:00:00+01:00    53    23  "
      ]
     },
     "execution_count": 9,
     "metadata": {},
     "output_type": "execute_result"
    }
   ],
   "source": [
    "QUERY_AQ_2 = f\"\"\"\n",
    "    SELECT datetime, {', '.join((compound1, compound2, compound3))} \n",
    "    FROM air_quality_data \n",
    "    WHERE station_code='{aq_station_code_2}'\n",
    "\"\"\"\n",
    "\n",
    "# Get compound1, compound2 and compound3 info of the air quality station 2\n",
    "df_aq_2 = pd.read_sql_query(QUERY_AQ_2, cnx, \n",
    "                          index_col='datetime', \n",
    "                          parse_dates=['datetime'])\n",
    "QUERY_WEATHER_2 = f\"\"\"\n",
    "    SELECT datetime, {', '.join(WEATHER_FACTORS)} \n",
    "    FROM weather_data \n",
    "    WHERE station_code={weather_station_code_2}\n",
    "\"\"\"\n",
    "\n",
    "# Get weather data of the closest weather station\n",
    "df_weather_2 = pd.read_sql_query(QUERY_WEATHER_2, cnx, \n",
    "                               index_col='datetime', \n",
    "                               parse_dates=['datetime'])\n",
    "\n",
    "# Combine air quality data and weather data for convenience\n",
    "df_station2 = df_aq_2.join(df_weather_2, how='outer')\n",
    "\n",
    "# Create time-related columns\n",
    "df_station2['station_code'] = aq_station_code_2\n",
    "df_station2['year'] = df_station2.index.year\n",
    "df_station2['month'] = df_station2.index.month\n",
    "df_station2['day_of_year'] = df_station2.index.dayofyear\n",
    "df_station2['week'] = df_station2['day_of_year'] // 7 + 1\n",
    "df_station2['hour'] = df_station2.index.hour\n",
    "\n",
    "# Show the last rows of the database\n",
    "df_station2.tail()"
   ]
  },
  {
   "cell_type": "markdown",
   "metadata": {},
   "source": [
    "#### Closest weather station of air quality station 3:"
   ]
  },
  {
   "cell_type": "code",
   "execution_count": 10,
   "metadata": {},
   "outputs": [
    {
     "name": "stdout",
     "output_type": "stream",
     "text": [
      "The closest weather station to your air quality station 3 NL10133 is station 380, with a distance of 8.4 kilometers.\n"
     ]
    }
   ],
   "source": [
    "QUERY_WEATHER_STATION_3 = f\"\"\"\n",
    "    SELECT aq_station_code, weather_station_code, distance \n",
    "    FROM close_stations \n",
    "    WHERE aq_station_code='{aq_station_code_3}'\n",
    "    GROUP BY aq_station_code\n",
    "\"\"\"\n",
    "\n",
    "# Get the closest weather station info\n",
    "closest_weather_info_3 = pd.read_sql_query(QUERY_WEATHER_STATION_3, cnx).squeeze()\n",
    "\n",
    "# Extract weather code from the SQL result\n",
    "weather_station_code_3 = int(closest_weather_info_3['weather_station_code'])\n",
    "\n",
    "# Extract weather station distance from the SQL result\n",
    "aq_weather_distance_3 = closest_weather_info_3['distance']\n",
    "\n",
    "print(f'The closest weather station to your air quality station 3 {aq_station_code_3} is station '\n",
    "      f'{weather_station_code_3}, with a distance of {aq_weather_distance_3} kilometers.')"
   ]
  },
  {
   "cell_type": "markdown",
   "metadata": {},
   "source": [
    "#### Extracting air quality and weather data of air quality station 3:"
   ]
  },
  {
   "cell_type": "code",
   "execution_count": 11,
   "metadata": {},
   "outputs": [
    {
     "data": {
      "text/html": [
       "<div>\n",
       "<style scoped>\n",
       "    .dataframe tbody tr th:only-of-type {\n",
       "        vertical-align: middle;\n",
       "    }\n",
       "\n",
       "    .dataframe tbody tr th {\n",
       "        vertical-align: top;\n",
       "    }\n",
       "\n",
       "    .dataframe thead th {\n",
       "        text-align: right;\n",
       "    }\n",
       "</style>\n",
       "<table border=\"1\" class=\"dataframe\">\n",
       "  <thead>\n",
       "    <tr style=\"text-align: right;\">\n",
       "      <th></th>\n",
       "      <th>no_x</th>\n",
       "      <th>no_2</th>\n",
       "      <th>o_3</th>\n",
       "      <th>wind_direction</th>\n",
       "      <th>wind_speed</th>\n",
       "      <th>wind_gust</th>\n",
       "      <th>station_code</th>\n",
       "      <th>year</th>\n",
       "      <th>month</th>\n",
       "      <th>day_of_year</th>\n",
       "      <th>week</th>\n",
       "      <th>hour</th>\n",
       "    </tr>\n",
       "    <tr>\n",
       "      <th>datetime</th>\n",
       "      <th></th>\n",
       "      <th></th>\n",
       "      <th></th>\n",
       "      <th></th>\n",
       "      <th></th>\n",
       "      <th></th>\n",
       "      <th></th>\n",
       "      <th></th>\n",
       "      <th></th>\n",
       "      <th></th>\n",
       "      <th></th>\n",
       "      <th></th>\n",
       "    </tr>\n",
       "  </thead>\n",
       "  <tbody>\n",
       "    <tr>\n",
       "      <th>2021-12-31 19:00:00+01:00</th>\n",
       "      <td>10.92</td>\n",
       "      <td>6.63</td>\n",
       "      <td>42.86</td>\n",
       "      <td>240</td>\n",
       "      <td>5.0</td>\n",
       "      <td>9.0</td>\n",
       "      <td>NL10133</td>\n",
       "      <td>2021</td>\n",
       "      <td>12</td>\n",
       "      <td>365</td>\n",
       "      <td>53</td>\n",
       "      <td>19</td>\n",
       "    </tr>\n",
       "    <tr>\n",
       "      <th>2021-12-31 20:00:00+01:00</th>\n",
       "      <td>10.90</td>\n",
       "      <td>6.11</td>\n",
       "      <td>41.61</td>\n",
       "      <td>240</td>\n",
       "      <td>4.0</td>\n",
       "      <td>8.0</td>\n",
       "      <td>NL10133</td>\n",
       "      <td>2021</td>\n",
       "      <td>12</td>\n",
       "      <td>365</td>\n",
       "      <td>53</td>\n",
       "      <td>20</td>\n",
       "    </tr>\n",
       "    <tr>\n",
       "      <th>2021-12-31 21:00:00+01:00</th>\n",
       "      <td>9.66</td>\n",
       "      <td>5.50</td>\n",
       "      <td>42.92</td>\n",
       "      <td>250</td>\n",
       "      <td>3.0</td>\n",
       "      <td>7.0</td>\n",
       "      <td>NL10133</td>\n",
       "      <td>2021</td>\n",
       "      <td>12</td>\n",
       "      <td>365</td>\n",
       "      <td>53</td>\n",
       "      <td>21</td>\n",
       "    </tr>\n",
       "    <tr>\n",
       "      <th>2021-12-31 22:00:00+01:00</th>\n",
       "      <td>6.36</td>\n",
       "      <td>4.84</td>\n",
       "      <td>44.80</td>\n",
       "      <td>230</td>\n",
       "      <td>3.0</td>\n",
       "      <td>6.0</td>\n",
       "      <td>NL10133</td>\n",
       "      <td>2021</td>\n",
       "      <td>12</td>\n",
       "      <td>365</td>\n",
       "      <td>53</td>\n",
       "      <td>22</td>\n",
       "    </tr>\n",
       "    <tr>\n",
       "      <th>2021-12-31 23:00:00+01:00</th>\n",
       "      <td>6.80</td>\n",
       "      <td>6.20</td>\n",
       "      <td>43.35</td>\n",
       "      <td>220</td>\n",
       "      <td>4.0</td>\n",
       "      <td>5.0</td>\n",
       "      <td>NL10133</td>\n",
       "      <td>2021</td>\n",
       "      <td>12</td>\n",
       "      <td>365</td>\n",
       "      <td>53</td>\n",
       "      <td>23</td>\n",
       "    </tr>\n",
       "  </tbody>\n",
       "</table>\n",
       "</div>"
      ],
      "text/plain": [
       "                            no_x  no_2    o_3  wind_direction  wind_speed  \\\n",
       "datetime                                                                    \n",
       "2021-12-31 19:00:00+01:00  10.92  6.63  42.86             240         5.0   \n",
       "2021-12-31 20:00:00+01:00  10.90  6.11  41.61             240         4.0   \n",
       "2021-12-31 21:00:00+01:00   9.66  5.50  42.92             250         3.0   \n",
       "2021-12-31 22:00:00+01:00   6.36  4.84  44.80             230         3.0   \n",
       "2021-12-31 23:00:00+01:00   6.80  6.20  43.35             220         4.0   \n",
       "\n",
       "                           wind_gust station_code  year  month  day_of_year  \\\n",
       "datetime                                                                      \n",
       "2021-12-31 19:00:00+01:00        9.0      NL10133  2021     12          365   \n",
       "2021-12-31 20:00:00+01:00        8.0      NL10133  2021     12          365   \n",
       "2021-12-31 21:00:00+01:00        7.0      NL10133  2021     12          365   \n",
       "2021-12-31 22:00:00+01:00        6.0      NL10133  2021     12          365   \n",
       "2021-12-31 23:00:00+01:00        5.0      NL10133  2021     12          365   \n",
       "\n",
       "                           week  hour  \n",
       "datetime                               \n",
       "2021-12-31 19:00:00+01:00    53    19  \n",
       "2021-12-31 20:00:00+01:00    53    20  \n",
       "2021-12-31 21:00:00+01:00    53    21  \n",
       "2021-12-31 22:00:00+01:00    53    22  \n",
       "2021-12-31 23:00:00+01:00    53    23  "
      ]
     },
     "execution_count": 11,
     "metadata": {},
     "output_type": "execute_result"
    }
   ],
   "source": [
    "QUERY_AQ_3 = f\"\"\"\n",
    "    SELECT datetime, {', '.join((compound1, compound2, compound3))} \n",
    "    FROM air_quality_data \n",
    "    WHERE station_code='{aq_station_code_3}'\n",
    "\"\"\"\n",
    "\n",
    "# Get compound1, compound2 and compound3 info of the air quality station 3\n",
    "df_aq_3 = pd.read_sql_query(QUERY_AQ_3, cnx, \n",
    "                          index_col='datetime', \n",
    "                          parse_dates=['datetime'])\n",
    "\n",
    "QUERY_WEATHER_3 = f\"\"\"\n",
    "    SELECT datetime, {', '.join(WEATHER_FACTORS)} \n",
    "    FROM weather_data \n",
    "    WHERE station_code={weather_station_code_3}\n",
    "\"\"\"\n",
    "\n",
    "# Get weather data of the closest weather station\n",
    "df_weather_3 = pd.read_sql_query(QUERY_WEATHER_3, cnx, \n",
    "                               index_col='datetime', \n",
    "                               parse_dates=['datetime'])\n",
    "\n",
    "# Combine air quality data and weather data for convenience\n",
    "df_station3 = df_aq_3.join(df_weather_3, how='outer')\n",
    "\n",
    "# Create time-related columns\n",
    "df_station3['station_code'] = aq_station_code_3\n",
    "df_station3['year'] = df_station3.index.year\n",
    "df_station3['month'] = df_station3.index.month\n",
    "df_station3['day_of_year'] = df_station3.index.dayofyear\n",
    "df_station3['week'] = df_station3['day_of_year'] // 7 + 1\n",
    "df_station3['hour'] = df_station3.index.hour\n",
    "\n",
    "# Show the last rows of the database\n",
    "df_station3.tail()"
   ]
  },
  {
   "cell_type": "markdown",
   "metadata": {},
   "source": [
    "#### Closest weather station of air quality station 4:"
   ]
  },
  {
   "cell_type": "code",
   "execution_count": 12,
   "metadata": {},
   "outputs": [
    {
     "name": "stdout",
     "output_type": "stream",
     "text": [
      "The closest weather station to your air quality station 4 NL10738 is station 275, with a distance of 12.8 kilometers.\n"
     ]
    }
   ],
   "source": [
    "QUERY_WEATHER_STATION_4 = f\"\"\"\n",
    "    SELECT aq_station_code, weather_station_code, distance \n",
    "    FROM close_stations \n",
    "    WHERE aq_station_code='{aq_station_code_4}'\n",
    "    GROUP BY aq_station_code\n",
    "\"\"\"\n",
    "\n",
    "# Get the closest weather station info\n",
    "closest_weather_info_4 = pd.read_sql_query(QUERY_WEATHER_STATION_4, cnx).squeeze()\n",
    "\n",
    "# Extract weather code from the SQL result\n",
    "weather_station_code_4 = int(closest_weather_info_4['weather_station_code'])\n",
    "\n",
    "# Extract weather station distance from the SQL result\n",
    "aq_weather_distance_4 = closest_weather_info_4['distance']\n",
    "\n",
    "print(f'The closest weather station to your air quality station 4 {aq_station_code_4} is station '\n",
    "      f'{weather_station_code_4}, with a distance of {aq_weather_distance_4} kilometers.')"
   ]
  },
  {
   "cell_type": "markdown",
   "metadata": {},
   "source": [
    "#### Extracting air quality and weather data of air quality station 4:"
   ]
  },
  {
   "cell_type": "code",
   "execution_count": null,
   "metadata": {
    "scrolled": true
   },
   "outputs": [],
   "source": [
    "QUERY_AQ_4 = f\"\"\"\n",
    "    SELECT datetime, {', '.join((compound1, compound2, compound3))} \n",
    "    FROM air_quality_data \n",
    "    WHERE station_code='{aq_station_code_4}'\n",
    "\"\"\"\n",
    "\n",
    "# Get compound1, compound2 and compound3 info of the air quality station 4\n",
    "df_aq_4 = pd.read_sql_query(QUERY_AQ_4, cnx,\n",
    "                         index_col='datetime', \n",
    "                         parse_dates=['datetime'])\n",
    "\n",
    "QUERY_WEATHER_4 = f\"\"\"\n",
    "    SELECT datetime, {', '.join(WEATHER_FACTORS)} \n",
    "    FROM weather_data \n",
    "    WHERE station_code={weather_station_code_4}\n",
    "\"\"\"\n",
    "\n",
    "# Get weather data of the closest weather station\n",
    "df_weather_4 = pd.read_sql_query(QUERY_WEATHER_4, cnx,\n",
    "                              index_col='datetime', \n",
    "                              parse_dates=['datetime'])\n",
    "\n",
    "# Create time-related columns\n",
    "df_station4 = df_aq_4.join(df_weather_4, how='outer')\n",
    "\n",
    "# Create time-related columns\n",
    "df_station4['station_code'] = aq_station_code_4\n",
    "df_station4['year'] = df_station4.index.year\n",
    "df_station4['month'] = df_station4.index.month\n",
    "df_station4['day_of_year'] = df_station4.index.dayofyear\n",
    "df_station4['week'] = df_station4['day_of_year'] // 7 + 1\n",
    "df_station4['hour'] = df_station4.index.hour\n",
    "\n",
    "# Show the last rows of the database\n",
    "df_station4.tail()"
   ]
  },
  {
   "cell_type": "code",
   "execution_count": null,
   "metadata": {},
   "outputs": [],
   "source": [
    "# Close database connection\n",
    "cnx.close()"
   ]
  },
  {
   "cell_type": "markdown",
   "metadata": {},
   "source": [
    "### Measurement Periods of Chosen Wind Factors"
   ]
  },
  {
   "cell_type": "markdown",
   "metadata": {},
   "source": [
    "#### Station 1:"
   ]
  },
  {
   "cell_type": "code",
   "execution_count": null,
   "metadata": {},
   "outputs": [],
   "source": [
    "# Get starting measurement dates\n",
    "df1_start_compound1 = df_station1[df_station1[compound1].notna()].index.min()\n",
    "df1_start_compound2 = df_station1[df_station1[compound2].notna()].index.min()\n",
    "df1_start_compound3 = df_station1[df_station1[compound2].notna()].index.min()\n",
    "df1_start_weather_factor_1= df_station1[df_station1[WEATHER_FACTORS[0]].notna()].index.min()\n",
    "df1_start_weather_factor_2= df_station1[df_station1[WEATHER_FACTORS[1]].notna()].index.min()\n",
    "df1_start_weather_factor_3= df_station1[df_station1[WEATHER_FACTORS[2]].notna()].index.min()\n",
    "\n",
    "# Get ending measurement dates\n",
    "df1_end_compound1 = df_station1[df_station1[compound1].notna()].index.max()\n",
    "df1_end_compound2 = df_station1[df_station1[compound2].notna()].index.max()\n",
    "df1_end_compound3 = df_station1[df_station1[compound2].notna()].index.max()\n",
    "df1_end_weather_factor_1 = df_station1[df_station1[WEATHER_FACTORS[0]].notna()].index.max()\n",
    "df1_end_weather_factor_2 = df_station1[df_station1[WEATHER_FACTORS[1]].notna()].index.max()\n",
    "df1_end_weather_factor_3 = df_station1[df_station1[WEATHER_FACTORS[2]].notna()].index.max()\n",
    "\n",
    "# Print the measurement date information of station 1\n",
    "print(f'Station 1 ({aq_station_code_1}):')\n",
    "print(f'Measurements of {compound1} started on {df1_start_compound1} and ended on {df1_end_compound1}.')\n",
    "print(f'Measurements of {compound2} started on {df1_start_compound2} and ended on {df1_end_compound2}.')\n",
    "print(f'Measurements of {compound3} started on {df1_start_compound3} and ended on {df1_end_compound3}.')\n",
    "print(f'Measurements of {WEATHER_FACTORS[0]} started on {df1_start_weather_factor_1} and ended on {df1_end_weather_factor_1}.')\n",
    "print(f'Measurements of {WEATHER_FACTORS[1]} started on {df1_start_weather_factor_2} and ended on {df1_end_weather_factor_2}.')\n",
    "print(f'Measurements of {WEATHER_FACTORS[2]} started on {df1_start_weather_factor_3} and ended on {df1_end_weather_factor_3}.')"
   ]
  },
  {
   "cell_type": "markdown",
   "metadata": {},
   "source": [
    "#### Station 2:"
   ]
  },
  {
   "cell_type": "code",
   "execution_count": null,
   "metadata": {},
   "outputs": [],
   "source": [
    "# Get starting measurement dates\n",
    "df2_start_compound1 = df_station2[df_station2[compound1].notna()].index.min()\n",
    "df2_start_compound2 = df_station2[df_station2[compound2].notna()].index.min()\n",
    "df2_start_compound3 = df_station2[df_station2[compound2].notna()].index.min()\n",
    "df2_start_weather_factor_1= df_station2[df_station2[WEATHER_FACTORS[0]].notna()].index.min()\n",
    "df2_start_weather_factor_2= df_station2[df_station2[WEATHER_FACTORS[1]].notna()].index.min()\n",
    "df2_start_weather_factor_3= df_station2[df_station2[WEATHER_FACTORS[2]].notna()].index.min()\n",
    "\n",
    "# Get ending measurement dates\n",
    "df2_end_compound1 = df_station2[df_station2[compound1].notna()].index.max()\n",
    "df2_end_compound2 = df_station2[df_station2[compound2].notna()].index.max()\n",
    "df2_end_compound3 = df_station2[df_station2[compound2].notna()].index.max()\n",
    "df2_end_weather_factor_1 = df_station2[df_station2[WEATHER_FACTORS[0]].notna()].index.max()\n",
    "df2_end_weather_factor_2 = df_station2[df_station2[WEATHER_FACTORS[1]].notna()].index.max()\n",
    "df2_end_weather_factor_3 = df_station2[df_station2[WEATHER_FACTORS[2]].notna()].index.max()\n",
    "\n",
    "# Print the measurement date information of station 2\n",
    "print(f'Station 2 ({aq_station_code_2}):')\n",
    "print(f'Measurements of {compound1} started on {df2_start_compound1} and ended on {df2_end_compound1}.')\n",
    "print(f'Measurements of {compound2} started on {df2_start_compound2} and ended on {df2_end_compound2}.')\n",
    "print(f'Measurements of {compound3} started on {df2_start_compound3} and ended on {df2_end_compound3}.')\n",
    "print(f'Measurements of {WEATHER_FACTORS[0]} started on {df2_start_weather_factor_1} and ended on {df2_end_weather_factor_1}.')\n",
    "print(f'Measurements of {WEATHER_FACTORS[1]} started on {df2_start_weather_factor_2} and ended on {df2_end_weather_factor_2}.')\n",
    "print(f'Measurements of {WEATHER_FACTORS[2]} started on {df2_start_weather_factor_3} and ended on {df2_end_weather_factor_3}.')"
   ]
  },
  {
   "cell_type": "markdown",
   "metadata": {},
   "source": [
    "#### Station 3:"
   ]
  },
  {
   "cell_type": "code",
   "execution_count": null,
   "metadata": {},
   "outputs": [],
   "source": [
    "# Get starting measurement dates\n",
    "df3_start_compound1 = df_station3[df_station3[compound1].notna()].index.min()\n",
    "df3_start_compound2 = df_station3[df_station3[compound2].notna()].index.min()\n",
    "df3_start_compound3 = df_station3[df_station3[compound2].notna()].index.min()\n",
    "df3_start_weather_factor_1= df_station3[df_station3[WEATHER_FACTORS[0]].notna()].index.min()\n",
    "df3_start_weather_factor_2= df_station3[df_station3[WEATHER_FACTORS[1]].notna()].index.min()\n",
    "df3_start_weather_factor_3= df_station3[df_station3[WEATHER_FACTORS[2]].notna()].index.min()\n",
    "\n",
    "# Get ending measurement dates\n",
    "df3_end_compound1 = df_station3[df_station3[compound1].notna()].index.max()\n",
    "df3_end_compound2 = df_station3[df_station3[compound2].notna()].index.max()\n",
    "df3_end_compound3 = df_station3[df_station3[compound2].notna()].index.max()\n",
    "df3_end_weather_factor_1 = df_station3[df_station3[WEATHER_FACTORS[0]].notna()].index.max()\n",
    "df3_end_weather_factor_2 = df_station3[df_station3[WEATHER_FACTORS[1]].notna()].index.max()\n",
    "df3_end_weather_factor_3 = df_station3[df_station3[WEATHER_FACTORS[2]].notna()].index.max()\n",
    "\n",
    "# Print the measurement date information of station 3\n",
    "print(f'Station 3 ({aq_station_code_3}):')\n",
    "print(f'Measurements of {compound1} started on {df3_start_compound1} and ended on {df3_end_compound1}.')\n",
    "print(f'Measurements of {compound2} started on {df3_start_compound2} and ended on {df3_end_compound2}.')\n",
    "print(f'Measurements of {compound3} started on {df3_start_compound3} and ended on {df3_end_compound3}.')\n",
    "print(f'Measurements of {WEATHER_FACTORS[0]} started on {df3_start_weather_factor_1} and ended on {df3_end_weather_factor_1}.')\n",
    "print(f'Measurements of {WEATHER_FACTORS[1]} started on {df3_start_weather_factor_2} and ended on {df3_end_weather_factor_2}.')\n",
    "print(f'Measurements of {WEATHER_FACTORS[2]} started on {df3_start_weather_factor_3} and ended on {df3_end_weather_factor_3}.')"
   ]
  },
  {
   "cell_type": "markdown",
   "metadata": {},
   "source": [
    "#### Station 4:"
   ]
  },
  {
   "cell_type": "code",
   "execution_count": null,
   "metadata": {},
   "outputs": [],
   "source": [
    "# Get starting measurement dates\n",
    "df4_start_compound1 = df_station4[df_station4[compound1].notna()].index.min()\n",
    "df4_start_compound2 = df_station4[df_station4[compound2].notna()].index.min()\n",
    "df4_start_compound3 = df_station4[df_station4[compound2].notna()].index.min()\n",
    "df4_start_weather_factor_1= df_station4[df_station4[WEATHER_FACTORS[0]].notna()].index.min()\n",
    "df4_start_weather_factor_2= df_station4[df_station4[WEATHER_FACTORS[1]].notna()].index.min()\n",
    "df4_start_weather_factor_3= df_station4[df_station4[WEATHER_FACTORS[2]].notna()].index.min()\n",
    "\n",
    "# Get ending measurement dates\n",
    "df4_end_compound1 = df_station4[df_station4[compound1].notna()].index.max()\n",
    "df4_end_compound2 = df_station4[df_station4[compound2].notna()].index.max()\n",
    "df4_end_compound3 = df_station4[df_station4[compound2].notna()].index.max()\n",
    "df4_end_weather_factor_1 = df_station4[df_station4[WEATHER_FACTORS[0]].notna()].index.max()\n",
    "df4_end_weather_factor_2 = df_station4[df_station4[WEATHER_FACTORS[1]].notna()].index.max()\n",
    "df4_end_weather_factor_3 = df_station4[df_station4[WEATHER_FACTORS[2]].notna()].index.max()\n",
    "\n",
    "# Print the measurement date information of station 4\n",
    "print(f'Station 4 ({aq_station_code_4}):')\n",
    "print(f'Measurements of {compound1} started on {df4_start_compound1} and ended on {df4_end_compound1}.')\n",
    "print(f'Measurements of {compound2} started on {df4_start_compound2} and ended on {df4_end_compound2}.')\n",
    "print(f'Measurements of {compound3} started on {df4_start_compound3} and ended on {df4_end_compound3}.')\n",
    "print(f'Measurements of {WEATHER_FACTORS[0]} started on {df4_start_weather_factor_1} and ended on {df4_end_weather_factor_1}.')\n",
    "print(f'Measurements of {WEATHER_FACTORS[1]} started on {df4_start_weather_factor_2} and ended on {df4_end_weather_factor_2}.')\n",
    "print(f'Measurements of {WEATHER_FACTORS[2]} started on {df4_start_weather_factor_3} and ended on {df4_end_weather_factor_3}.')"
   ]
  },
  {
   "cell_type": "markdown",
   "metadata": {},
   "source": []
  },
  {
   "cell_type": "markdown",
   "metadata": {},
   "source": [
    "### Data Concatenation"
   ]
  },
  {
   "cell_type": "code",
   "execution_count": null,
   "metadata": {},
   "outputs": [],
   "source": [
    "# Finds the latest common start datetime of measurements\n",
    "start_measurement_all = [df1_start_compound1, df1_start_compound2, df1_start_compound3, df2_start_compound1, df2_start_compound2, df2_start_compound3, df3_start_compound1, df3_start_compound2, df3_start_compound3, df4_start_compound1, df4_start_compound2, df4_start_compound3]\n",
    "start_measurement = max(start_measurement_all)\n",
    "\n",
    "# Finds the earliest common end datetime of measurements\n",
    "end_measurement_all = [df1_end_compound1, df1_end_compound2, df1_end_compound3, df2_end_compound1, df2_end_compound2, df2_end_compound3, df3_end_compound1, df3_end_compound2, df3_end_compound3, df4_end_compound1, df4_end_compound2, df4_end_compound3]\n",
    "end_measurement = min(end_measurement_all)"
   ]
  },
  {
   "cell_type": "markdown",
   "metadata": {},
   "source": [
    "#### (optional)"
   ]
  },
  {
   "cell_type": "code",
   "execution_count": null,
   "metadata": {
    "scrolled": true
   },
   "outputs": [],
   "source": [
    "# df_data = pd.concat([df_station1, df_station2])\n",
    "# pd.concat([df_data, df_station3])\n",
    "# pd.concat([df_data, df_station4])\n",
    "# df_data.head()"
   ]
  },
  {
   "cell_type": "markdown",
   "metadata": {},
   "source": [
    "### Data Truncation"
   ]
  },
  {
   "cell_type": "code",
   "execution_count": null,
   "metadata": {},
   "outputs": [],
   "source": [
    "# Truncate the data frame\n",
    "df_station1 = df_station1.loc[start_measurement:end_measurement]\n",
    "df_station2 = df_station2.loc[start_measurement:end_measurement]\n",
    "df_station3 = df_station3.loc[start_measurement:end_measurement]\n",
    "df_station4 = df_station4.loc[start_measurement:end_measurement]"
   ]
  },
  {
   "cell_type": "markdown",
   "metadata": {},
   "source": [
    "### Data Frame Aggregation"
   ]
  },
  {
   "cell_type": "markdown",
   "metadata": {},
   "source": [
    "#### Data Frames have `MultiIndex` with two levels: `year` on the outer level and `day_of_year` and `month` as the inner levels respectively.\n",
    "The new data frames contain averages of the entries of df_data over day_of_year and month."
   ]
  },
  {
   "cell_type": "markdown",
   "metadata": {},
   "source": [
    "#### Daily (Year 2017 in Particular)"
   ]
  },
  {
   "cell_type": "code",
   "execution_count": null,
   "metadata": {},
   "outputs": [],
   "source": [
    "df_station1_daily = df_station1.groupby(['year', 'day_of_year']).mean(numeric_only=True)\n",
    "#df_station1_daily = df_station1_daily.loc[2017:2017]\n",
    "\n",
    "df_station2_daily = df_station2.groupby(['year', 'day_of_year']).mean(numeric_only=True)\n",
    "\n",
    "df_station3_daily = df_station3.groupby(['year', 'day_of_year']).mean(numeric_only=True)\n",
    "\n",
    "df_station4_daily = df_station4.groupby(['year', 'day_of_year']).mean(numeric_only=True)\n",
    "\n",
    "df_station1_daily.head()"
   ]
  },
  {
   "cell_type": "markdown",
   "metadata": {},
   "source": [
    "#### Monthly (Year 2017 in Particular)"
   ]
  },
  {
   "cell_type": "code",
   "execution_count": null,
   "metadata": {},
   "outputs": [],
   "source": [
    "df_station1_monthly = df_station1.groupby(['year', 'month']).mean(numeric_only=True)\n",
    "\n",
    "df_station2_monthly = df_station2.groupby(['year', 'month']).mean(numeric_only=True)\n",
    "\n",
    "df_station3_monthly = df_station3.groupby(['year', 'month']).mean(numeric_only=True)\n",
    "\n",
    "df_station4_monthly = df_station4.groupby(['year', 'month']).mean(numeric_only=True)\n",
    "\n",
    "df_station1_monthly.head()"
   ]
  },
  {
   "cell_type": "code",
   "execution_count": null,
   "metadata": {},
   "outputs": [],
   "source": []
  },
  {
   "cell_type": "code",
   "execution_count": null,
   "metadata": {},
   "outputs": [],
   "source": []
  },
  {
   "cell_type": "markdown",
   "metadata": {},
   "source": [
    "## Part 3. Hypothesis testing and interpretation"
   ]
  },
  {
   "cell_type": "markdown",
   "metadata": {},
   "source": [
    "## YOUJUNG'S PLOTS"
   ]
  },
  {
   "cell_type": "markdown",
   "metadata": {},
   "source": [
    "#### Line plots"
   ]
  },
  {
   "cell_type": "code",
   "execution_count": null,
   "metadata": {},
   "outputs": [],
   "source": [
    "fig, ax=plt.subplots(nrows = 3, ncols=1, figsize=(12,12))\n",
    "\n",
    "# find the last 5 years of which data is available\n",
    "last = df_station1_daily[compound1].index.get_level_values('year').unique()[-5:]\n",
    "\n",
    "# superimposed line plots for average of no_x\n",
    "ax_combined1 = df_station1_monthly[compound1][last[0]].plot(ax=ax[0])\n",
    "df_station1_monthly[compound1][last[1]].plot(ax=ax_combined1)\n",
    "df_station1_monthly[compound1][last[2]].plot(ax=ax_combined1)\n",
    "df_station1_monthly[compound1][last[3]].plot(ax=ax_combined1)\n",
    "df_station1_monthly[compound1][last[4]].plot(ax=ax_combined1)\n",
    "\n",
    "# superimposed line plots for average of pm_10\n",
    "ax_combined2 = df_station2_monthly[compound2][last[0]].plot(ax=ax[1])\n",
    "df_station2_monthly[compound2][last[1]].plot(ax=ax_combined2)\n",
    "df_station2_monthly[compound2][last[2]].plot(ax=ax_combined2)\n",
    "df_station2_monthly[compound2][last[3]].plot(ax=ax_combined2)\n",
    "df_station2_monthly[compound2][last[4]].plot(ax=ax_combined2)\n",
    "\n",
    "# superimposed line plots for average of wind_speed\n",
    "ax_combined3 = df_station3_monthly[compound3][last[0]].plot(ax=ax[2])\n",
    "df_station3_monthly[compound3][last[1]].plot(ax=ax_combined3)\n",
    "df_station3_monthly[compound3][last[2]].plot(ax=ax_combined3)\n",
    "df_station3_monthly[compound3][last[3]].plot(ax=ax_combined3)\n",
    "df_station3_monthly[compound3][last[4]].plot(ax=ax_combined3)\n",
    "\n",
    ";"
   ]
  },
  {
   "cell_type": "code",
   "execution_count": null,
   "metadata": {},
   "outputs": [],
   "source": [
    "fig, ax=plt.subplots(nrows = 3, ncols=1, figsize=(12,12))\n",
    "\n",
    "# superimposed line plots for average of no_x\n",
    "df_station1_daily[compound1][2017].plot(ax=ax[0])\n",
    "df_station2_daily[compound1][2017].plot(ax=ax[0])\n",
    "df_station3_daily[compound1][2017].plot(ax=ax[0])\n",
    "df_station4_daily[compound1][2017].plot(ax=ax[0])\n",
    "\n",
    "# superimposed line plots for average of no_2\n",
    "df_station1_daily[compound2][2017].plot(ax=ax[1])\n",
    "df_station2_daily[compound2][2017].plot(ax=ax[1])\n",
    "df_station3_daily[compound2][2017].plot(ax=ax[1])\n",
    "df_station4_daily[compound2][2017].plot(ax=ax[1])\n",
    "\n",
    "# superimposed line plots for average of o_3\n",
    "df_station1_daily[compound3][2017].plot(ax=ax[2])\n",
    "df_station2_daily[compound3][2017].plot(ax=ax[2])\n",
    "df_station3_daily[compound3][2017].plot(ax=ax[2])\n",
    "df_station4_daily[compound3][2017].plot(ax=ax[2])\n",
    "\n",
    "# add titles\n",
    "plt.suptitle(\"Line Plots : Averaged Data of\\n 'compound1', 'compound2', and 'compound3'\\n in 2017\", fontsize=16, weight='bold');\n",
    "\n",
    "plt.tight_layout();"
   ]
  },
  {
   "cell_type": "code",
   "execution_count": null,
   "metadata": {},
   "outputs": [],
   "source": [
    "# location wise line plot\n",
    "\n",
    "fig, ax =plt.subplots(nrows = 3, ncols=1, figsize=(12,12))\n",
    "\n",
    "df_station1_loctemp = df_station1_monthly.loc[2015:2017]\n",
    "df_station1_loctemp.plot(y='no_x', ax = ax[0])\n",
    "df_station1_loctemp.plot(y='no_2', ax = ax[0])\n",
    "df_station1_loctemp.plot(y='o_3', ax = ax[0])\n",
    "\n",
    "df_station2_monthly.plot(y='no_x', ax = ax[1])\n",
    "df_station2_monthly.plot(y='no_2', ax = ax[1])\n",
    "df_station2_monthly.plot(y='o_3', ax = ax[1])\n",
    "\n",
    "df_station3_monthly.plot(y='no_x', ax = ax[2])\n",
    "df_station3_monthly.plot(y='no_2', ax = ax[2])\n",
    "df_station3_monthly.plot(y='o_3', ax = ax[2])\n",
    "\n",
    "\n",
    "plt.tight_layout();"
   ]
  },
  {
   "cell_type": "code",
   "execution_count": null,
   "metadata": {
    "scrolled": true
   },
   "outputs": [],
   "source": [
    "# box plots location wise (with one compound)\n",
    "fig, ax = plt.subplots(nrows=1, ncols=4, sharey=True, sharex=True, figsize=(10,10))\n",
    "df_station1_monthly.boxplot(column=compound1, by='month', color='royalblue', ax=ax[0])\n",
    "df_station2_monthly.boxplot(column=compound1, by='month', color='orange', ax=ax[1])\n",
    "df_station3_monthly.boxplot(column=compound1, by='month', color='seagreen', ax=ax[2])\n",
    "df_station4_monthly.boxplot(column=compound1, by='month', color='magenta', ax=ax[3])\n",
    "\n",
    "# rearranged the x ticks for improved readability\n",
    "xticklab = ['jan', 'feb', 'mar', 'apr', 'may', 'jun', 'jul', 'aug', 'sep', 'oct', 'nov', 'dec']\n",
    "ax[0].set_xticks(range(1,13), xticklab);"
   ]
  },
  {
   "cell_type": "code",
   "execution_count": null,
   "metadata": {},
   "outputs": [],
   "source": []
  },
  {
   "cell_type": "markdown",
   "metadata": {},
   "source": [
    "## QUAN'S PLOTS"
   ]
  },
  {
   "cell_type": "markdown",
   "metadata": {},
   "source": [
    "Generating four heatmaps ***(Nitrogen Dioxide And Wind Speed)*** for each air quality station."
   ]
  },
  {
   "cell_type": "code",
   "execution_count": null,
   "metadata": {},
   "outputs": [],
   "source": [
    "# HEATMAPS OF NO2 AND WIND SPEEDS AT 4 DIFFERENT AIR QUALITY STATIONS\n",
    "\n",
    "fig, ax = plt.subplots(nrows = 4, ncols=1, figsize=(10,19))\n",
    "\n",
    "# wind_speed 0 -> 20\n",
    "# nh_3 0 -> 30\n",
    "\n",
    "#aq_station_code_1 = 'NL10444'\n",
    "#aq_station_code_2 = 'NL10538'\n",
    "#aq_station_code_3 = 'NL10133'\n",
    "#aq_station_code_4 = 'NL10738'\n",
    "\n",
    "wind_speed_levels = ['0-3','4-6','7-10', '11-16','17-21','22-27']\n",
    "no_levels = ['0-20','20-40','40-60','60-80','80-100']\n",
    "\n",
    "# Dividing the compound and wind into bins based on their values \n",
    "df_station1['no_2_levels'] = pd.cut(df_station1['no_2'], len(no_levels), labels = no_levels)\n",
    "df_station1['wind_speed_levels'] = pd.cut(df_station1['wind_speed'], len(wind_speed_levels), labels = wind_speed_levels)\n",
    "\n",
    "df_station2['no_2_levels'] = pd.cut(df_station2['no_2'], len(no_levels), labels = no_levels)\n",
    "df_station2['wind_speed_levels'] = pd.cut(df_station2['wind_speed'], len(wind_speed_levels), labels = wind_speed_levels)\n",
    "\n",
    "df_station3['no_2_levels'] = pd.cut(df_station3['no_2'], len(no_levels), labels = no_levels)\n",
    "df_station3['wind_speed_levels'] = pd.cut(df_station3['wind_speed'], len(wind_speed_levels), labels = wind_speed_levels)\n",
    "\n",
    "df_station4['no_2_levels'] = pd.cut(df_station4['no_2'], len(no_levels), labels = no_levels)\n",
    "df_station4['wind_speed_levels'] = pd.cut(df_station4['wind_speed'], len(wind_speed_levels), labels = wind_speed_levels)\n",
    "\n",
    "# Grouping based on bins and count the occurences of the desired compound\n",
    "df_station1_no_2_data = df_station1.groupby(['no_2_levels','wind_speed_levels'])['no_2'].count()\n",
    "df_station2_no_2_data = df_station2.groupby(['no_2_levels','wind_speed_levels'])['no_2'].count()\n",
    "df_station3_no_2_data = df_station3.groupby(['no_2_levels','wind_speed_levels'])['no_2'].count()\n",
    "df_station4_no_2_data = df_station4.groupby(['no_2_levels','wind_speed_levels'])['no_2'].count()\n",
    "\n",
    "# Transform Data into Matrix Shape\n",
    "df_station1_no_2_matrix = df_station1_no_2_data.unstack()\n",
    "df_station2_no_2_matrix = df_station2_no_2_data.unstack()\n",
    "df_station3_no_2_matrix = df_station3_no_2_data.unstack()\n",
    "df_station4_no_2_matrix = df_station4_no_2_data.unstack()\n",
    "\n",
    "# Plot the heatmaps\n",
    "sns.heatmap(data = df_station1_no_2_matrix, ax = ax[0])\n",
    "sns.heatmap(data = df_station2_no_2_matrix, ax = ax[1])\n",
    "sns.heatmap(data = df_station3_no_2_matrix, ax = ax[2])\n",
    "sns.heatmap(data = df_station4_no_2_matrix, ax = ax[3])\n",
    "\n",
    "# Setting Titles, X-Labels, Y-Labels\n",
    "ax[0].set_title('Heatmap of Nitrogen Dioxide And Wind Speeds At De Zilk-Vogelaarsdreef (South West)', weight = 'bold')\n",
    "ax[0].set_xlabel('Wind Speeds')\n",
    "ax[0].set_ylabel('Nitrogen Dioxide')\n",
    "\n",
    "ax[1].set_title('Heatmap of Nitrogen Dioxide And Wind Speeds At Wieringerwerf-Medemblikkerweg (North West)', weight = 'bold')\n",
    "ax[1].set_xlabel('Wind Speeds')\n",
    "ax[1].set_ylabel('Nitrogen Dioxide')\n",
    "\n",
    "ax[2].set_title('Heatmap of Nitrogen Dioxide And Wind Speeds At Wijnandsrade-Opfergeltstraat (South East)', weight = 'bold')\n",
    "ax[2].set_xlabel('Wind Speeds')\n",
    "ax[2].set_ylabel('Nitrogen Dioxide')\n",
    "\n",
    "ax[3].set_title('Heatmap of Nitrogen Dioxide And Wind Speeds At Wekerom-Riemterdijk (North East)', weight = 'bold')\n",
    "ax[3].set_xlabel('Wind Speeds')\n",
    "ax[3].set_ylabel('Nitrogen Dioxide')\n",
    "\n",
    "# Styling the graphs\n",
    "plt.subplots_adjust(left=0.1,\n",
    "                    bottom=0.1, \n",
    "                    right=0.9, \n",
    "                    top=0.94, \n",
    "                    wspace=0.3, \n",
    "                    hspace=0.4)\n",
    "\n",
    "plt.suptitle(\"Relationship Between Nitrogen Dioxide And Wind Speeds At 4 Different Air Quality Station\", weight = 'bold', size = 16);"
   ]
  },
  {
   "cell_type": "markdown",
   "metadata": {},
   "source": [
    "### INTERPRETATION\n",
    "\n",
    "- Out of the 4 locations, the North West weather station has the lowest concentration of NO_2, while having low wind speeds.\n",
    "\n",
    "- The 2 stations in the West (closer to the sea) see lower NO_2 density compared to the ones on the East (further from the sea) with the squares on the 0 - 20 row having brighter colors.\n",
    "\n",
    "- The 2 stations in the East have higher variability in both NO_2 concentration and wind speeds with more cells being differently colored, but they have higher wind speeds occuring.\n",
    "\n",
    "- The West stations definitely have lower NO_2 levels compared to the East ones, but their correlation to the wind speed is unclear."
   ]
  },
  {
   "cell_type": "markdown",
   "metadata": {},
   "source": [
    "Generating four scatterplots ***(Nitrogen Dioxide And Wind Gust)*** for each air quality station."
   ]
  },
  {
   "cell_type": "code",
   "execution_count": null,
   "metadata": {},
   "outputs": [],
   "source": [
    "# SCATTERPLOTS OF NO2 AND WIND GUSTS AT 4 AIR QUALITY STATIONS\n",
    "fig, ax = plt.subplots(nrows = 4, ncols=1, figsize=(10,19))\n",
    "\n",
    "# Making the Scatterplots\n",
    "df_station1.plot(kind = 'scatter', x = 'wind_gust', y = 'no_2',color = 'blue', s = 0.5, ax = ax[0])\n",
    "df_station2.plot(kind = 'scatter', x = 'wind_gust', y = 'no_2',color = 'blue', s = 0.5, ax = ax[1])\n",
    "df_station3.plot(kind = 'scatter', x = 'wind_gust', y = 'no_2',color = 'blue', s = 0.5, ax = ax[2])\n",
    "df_station4.plot(kind = 'scatter', x = 'wind_gust', y = 'no_2',color = 'blue', s = 0.5, ax = ax[3])\n",
    "\n",
    "# Labelling stuff\n",
    "ax[0].set_xlim(-1, 35)\n",
    "ax[0].set_ylim(0,160)\n",
    "ax[0].set_xlabel('Wind Gust')\n",
    "ax[0].set_ylabel('Nitrogen Dioxide')\n",
    "ax[0].set_title('Scatterplot of Nitrogen Dioxide And Wind Gust At De Zilk-Vogelaarsdreef (South West)', weight = 'bold')\n",
    "\n",
    "ax[1].set_xlim(-1, 35)\n",
    "ax[1].set_ylim(0,160)\n",
    "ax[1].set_xlabel('Wind Gust')\n",
    "ax[1].set_ylabel('Nitrogen Dioxide')\n",
    "ax[1].set_title('Scatterplot of Nitrogen Dioxide And Wind Gust At Wieringerwerf-Medemblikkerweg (North West)', weight = 'bold')\n",
    "\n",
    "ax[2].set_xlim(-1, 35)\n",
    "ax[2].set_ylim(0,160)\n",
    "ax[2].set_xlabel('Wind Gust')\n",
    "ax[2].set_ylabel('Nitrogen Dioxide')\n",
    "ax[2].set_title('Scatterplot of Nitrogen Dioxide And Wind Gust At Wijnandsrade-Opfergeltstraat (South East)', weight = 'bold')\n",
    "\n",
    "ax[3].set_xlim(-1, 35)\n",
    "ax[3].set_ylim(0,160)\n",
    "ax[3].set_xlabel('Wind Gust')\n",
    "ax[3].set_ylabel('Nitrogen Dioxide')\n",
    "ax[3].set_title('Scatterplot of Nitrogen Dioxide And Wind Gust At Wekerom-Riemterdijk (North East)', weight = 'bold')\n",
    "\n",
    "\n",
    "# Styling the graphs\n",
    "plt.subplots_adjust(left=0.1,\n",
    "                    bottom=0.1, \n",
    "                    right=0.9, \n",
    "                    top=0.94, \n",
    "                    wspace=0.3, \n",
    "                    hspace=0.4)\n",
    "\n",
    "plt.suptitle(\"Relationship Between Nitrogen Dioxide And Wind Speeds At 4 Different Air Quality Stations\", weight = 'bold', size = 16);"
   ]
  },
  {
   "cell_type": "markdown",
   "metadata": {},
   "source": [
    "### INTERPRETATION\n",
    "\n",
    "- The 4 weather all follow a similar pattern: Higher wind gusts correlated with lower levels of nitrogen dioxide. The NO_2 levels started off low, peaking around wind gusts between 0 and 10 before dropping off as the wind gust values go up.\n",
    "- The stations on the West recorded higher wind gusts (There are more values above 25) and have higher concentrations of NO_2 compared to the ones on the East.\n",
    "- The places with higher wind gust seem to experience higher levels of NO 2."
   ]
  },
  {
   "cell_type": "markdown",
   "metadata": {},
   "source": [
    "## SZONJA'S PLOTS"
   ]
  },
  {
   "cell_type": "code",
   "execution_count": null,
   "metadata": {},
   "outputs": [],
   "source": [
    "df_station1_speed = df_station1.groupby(['wind_speed']).mean()\n",
    "df_station2_speed = df_station2.groupby(['wind_speed']).mean()\n",
    "df_station3_speed = df_station3.groupby(['wind_speed']).mean()\n",
    "df_station4_speed = df_station4.groupby(['wind_speed']).mean()\n",
    "\n",
    "df_station1_gust = df_station1.groupby(['wind_gust']).mean()\n",
    "df_station2_gust = df_station2.groupby(['wind_gust']).mean()\n",
    "df_station3_gust = df_station3.groupby(['wind_gust']).mean()\n",
    "df_station4_gust = df_station4.groupby(['wind_gust']).mean()"
   ]
  },
  {
   "cell_type": "code",
   "execution_count": null,
   "metadata": {},
   "outputs": [],
   "source": [
    "fig, ax = plt.subplots(nrows = 3, ncols=2, figsize=(15,12))\n",
    "# concentration vs the windspeed\n",
    "\n",
    "df_station1_speed.plot(y='no_x', ax=ax[0,0])\n",
    "df_station2_speed.plot(y='no_x', ax=ax[0,0])\n",
    "df_station3_speed.plot(y='no_x', ax=ax[0,0])\n",
    "df_station4_speed.plot(y='no_x', ax=ax[0,0])\n",
    "\n",
    "df_station1_gust.plot(y='no_x', ax=ax[0,1])\n",
    "df_station2_gust.plot(y='no_x', ax=ax[0,1])\n",
    "df_station3_gust.plot(y='no_x', ax=ax[0,1])\n",
    "df_station4_gust.plot(y='no_x', ax=ax[0,1])\n",
    "\n",
    "df_station1_speed.plot(y='no_2', ax=ax[1,0])\n",
    "df_station2_speed.plot(y='no_2', ax=ax[1,0])\n",
    "df_station3_speed.plot(y='no_2', ax=ax[1,0])\n",
    "df_station4_speed.plot(y='no_2', ax=ax[1,0])\n",
    "\n",
    "df_station1_gust.plot(y='no_2', ax=ax[1,1])\n",
    "df_station2_gust.plot(y='no_2', ax=ax[1,1])\n",
    "df_station3_gust.plot(y='no_2', ax=ax[1,1])\n",
    "df_station4_gust.plot(y='no_2', ax=ax[1,1])\n",
    "\n",
    "df_station1_speed.plot(y='o_3', ax=ax[2,0])\n",
    "df_station2_speed.plot(y='o_3', ax=ax[2,0])\n",
    "df_station3_speed.plot(y='o_3', ax=ax[2,0])\n",
    "df_station4_speed.plot(y='o_3', ax=ax[2,0])\n",
    "\n",
    "df_station1_gust.plot(y='o_3', ax=ax[2,1])\n",
    "df_station2_gust.plot(y='o_3', ax=ax[2,1])\n",
    "df_station3_gust.plot(y='o_3', ax=ax[2,1])\n",
    "df_station4_gust.plot(y='o_3', ax=ax[2,1])\n",
    "\n",
    "\n",
    "ax[0,0].legend(['station 1', 'station 2', 'station 3', 'station 4'])\n",
    "ax[0,1].legend(['station 1', 'station 2', 'station 3', 'station 4'])\n",
    "ax[1,0].legend(['station 1', 'station 2', 'station 3', 'station 4'])\n",
    "ax[1,1].legend(['station 1', 'station 2', 'station 3', 'station 4'])\n",
    "ax[2,0].legend(['station 1', 'station 2', 'station 3', 'station 4'])\n",
    "ax[2,1].legend(['station 1', 'station 2', 'station 3', 'station 4'])\n",
    "\n",
    "\n",
    "ax[0,0].set_title('NO_X concentration depending on wind speed')\n",
    "ax[0,1].set_title('NO_X concentration depending on wind gust')\n",
    "ax[1,0].set_title('NO_2 concentration depending on wind speed')\n",
    "ax[1,1].set_title('NO_2 concentration depending on wind gust')\n",
    "ax[2,0].set_title('O_3 concentration depending on wind speed')\n",
    "ax[2,1].set_title('O_3 concentration depending on wind gust')\n",
    "\n",
    "ax[0,1].set_xlim(-2,30)\n",
    "ax[1,1].set_xlim(-2,30)\n",
    "ax[2,1].set_xlim(-2,30)\n",
    "\n",
    "plt.tight_layout();"
   ]
  },
  {
   "cell_type": "markdown",
   "metadata": {},
   "source": [
    "### INTERPRETATION\n",
    "In these plots it is seeable that with NO_X and NO_2 there is a negative correlation with wind speed and wind gust, on the other hand there is a positive correlation when ozone is compared. All four statetions are more or less showing the same lines"
   ]
  },
  {
   "cell_type": "code",
   "execution_count": null,
   "metadata": {},
   "outputs": [],
   "source": [
    "df_winds_1 = df_station1.groupby(['year','day_of_year']).mean()\n",
    "df_winds_1 = df_winds_1.loc[2017:2017]\n",
    "df_winds_2 = df_station2.groupby(['year','day_of_year']).mean()\n",
    "df_winds_2 = df_winds_2.loc[2017:2017]\n",
    "df_winds_3 = df_station3.groupby(['year','day_of_year']).mean()\n",
    "df_winds_3 = df_winds_3.loc[2017:2017]\n",
    "df_winds_4 = df_station4.groupby(['year','day_of_year']).mean()\n",
    "df_winds_4 = df_winds_4.loc[2017:2017]"
   ]
  },
  {
   "cell_type": "code",
   "execution_count": null,
   "metadata": {},
   "outputs": [],
   "source": [
    "df_winds_1['filt_wind_speed'] = gaussian_filter1d(df_winds_1['wind_speed'] , sigma=3, mode='nearest')\n",
    "df_winds_2['filt_wind_speed'] = gaussian_filter1d(df_winds_2['wind_speed'] , sigma=3, mode='nearest')\n",
    "df_winds_3['filt_wind_speed'] = gaussian_filter1d(df_winds_3['wind_speed'] , sigma=3, mode='nearest')\n",
    "df_winds_4['filt_wind_speed'] = gaussian_filter1d(df_winds_4['wind_speed'] , sigma=3, mode='nearest')\n",
    "\n",
    "ax = df_winds_1.plot(y='filt_wind_speed')\n",
    "df_winds_2.plot(y='filt_wind_speed', ax=ax)\n",
    "df_winds_3.plot(y='filt_wind_speed', ax=ax)\n",
    "df_winds_4.plot(y='filt_wind_speed', ax=ax)\n",
    "\n",
    "ax.legend(['station 1', 'station 2', 'station 3', 'station 4']);"
   ]
  },
  {
   "cell_type": "markdown",
   "metadata": {},
   "source": [
    "### INTERPRETATION\n",
    "The plot shows that the coastal places, station 1 and station 2, is more windy than more eastern earas. The two coastal and two eatern places are moving together."
   ]
  },
  {
   "cell_type": "markdown",
   "metadata": {},
   "source": [
    "## PIM'S PLOTS"
   ]
  },
  {
   "cell_type": "code",
   "execution_count": null,
   "metadata": {},
   "outputs": [],
   "source": [
    "plt.figure(figsize=(20, 6))\n",
    "\n",
    "plt.subplot(1, 3, 1)\n",
    "sns.scatterplot(x='wind_speed', y='no_2', data=df_station1)\n",
    "plt.xlim(-1, 25) \n",
    "plt.ylim(-15, 200)\n",
    "plt.title('Wind speed vs NO_2 at De Zilk-Vogelaarsdreef (South West)')\n",
    "plt.xlabel('Wind speed')\n",
    "plt.ylabel('NO_2')\n",
    "\n",
    "plt.subplot(1, 3, 2)\n",
    "sns.scatterplot(x='wind_speed', y='no_x', data=df_station1)\n",
    "plt.xlim(-1, 25) \n",
    "plt.ylim(-15, 500)\n",
    "plt.title('Wind speed vs. NO_X at De Zilk-Vogelaarsdreef (South West) ')\n",
    "plt.xlabel('Wind speed')\n",
    "plt.ylabel('NO_X')\n",
    "\n",
    "plt.subplot(1, 3, 3)\n",
    "sns.scatterplot(x='wind_speed', y='o_3', data=df_station1)\n",
    "plt.xlim(-1, 25) \n",
    "plt.ylim(-15, 300)\n",
    "plt.title('Wind speed vs. O_3 at De Zilk-Vogelaarsdreef (South West) ')\n",
    "plt.xlabel('Wind speed')\n",
    "plt.ylabel('O_3')\n",
    "\n",
    "\n",
    "\n",
    "plt.figure(figsize=(20, 6))\n",
    "\n",
    "plt.subplot(1, 3, 1)\n",
    "sns.scatterplot(x='wind_speed', y='no_2', data=df_station2)\n",
    "plt.xlim(-1, 25) \n",
    "plt.ylim(-1, 200)\n",
    "plt.title('Wind speed vs NO_2 At Wieringerwerf-Medemblikkerweg (North West)')\n",
    "plt.xlabel('Wind speed')\n",
    "plt.ylabel('NO_2')\n",
    "\n",
    "plt.subplot(1, 3, 2)\n",
    "sns.scatterplot(x='wind_speed', y='no_x', data=df_station2)\n",
    "plt.xlim(-1, 25) \n",
    "plt.ylim(-15, 500)\n",
    "plt.title('Wind speed vs. NO_X At Wieringerwerf-Medemblikkerweg (North West)')\n",
    "plt.xlabel('wind speed')\n",
    "plt.ylabel('NO_X')\n",
    "\n",
    "plt.subplot(1, 3, 3)\n",
    "sns.scatterplot(x='wind_speed', y='o_3', data=df_station2)\n",
    "plt.xlim(-1, 25) \n",
    "plt.ylim(-15, 300)\n",
    "plt.title('Wind speed vs. O_3 At Wieringerwerf-Medemblikkerweg (North West)')\n",
    "plt.xlabel('Wind speed')\n",
    "plt.ylabel('O_3')\n",
    "\n",
    "\n",
    "plt.figure(figsize=(20, 6))\n",
    "\n",
    "plt.subplot(1, 3, 1)\n",
    "sns.scatterplot(x='wind_speed', y='no_2', data=df_station3)\n",
    "plt.xlim(-1, 25) \n",
    "plt.ylim(-1, 200)\n",
    "plt.title('Wind speed vs NO_2 At Wijnandsrade-Opfergeltstraat (South East)')\n",
    "plt.xlabel('Wind speed')\n",
    "plt.ylabel('NO_2')\n",
    "\n",
    "plt.subplot(1, 3, 2)\n",
    "sns.scatterplot(x='wind_speed', y='no_x', data=df_station3)\n",
    "plt.xlim(-1, 25) \n",
    "plt.ylim(-15, 500)\n",
    "plt.title('Wind speed vs. NO_X At Wijnandsrade-Opfergeltstraat (South East)')\n",
    "plt.xlabel('wind speed')\n",
    "plt.ylabel('NO_X')\n",
    "\n",
    "plt.subplot(1, 3, 3)\n",
    "sns.scatterplot(x='wind_speed', y='o_3', data=df_station3)\n",
    "plt.xlim(-1, 25) \n",
    "plt.ylim(-15, 300)\n",
    "plt.title('Wind speed vs. O_3 At Wijnandsrade-Opfergeltstraat (South East)')\n",
    "plt.xlabel('Wind speed')\n",
    "plt.ylabel('O_3')\n",
    "\n",
    "plt.figure(figsize=(20, 6))\n",
    "\n",
    "plt.subplot(1, 3, 1)\n",
    "sns.scatterplot(x='wind_speed', y='no_2', data=df_station4)\n",
    "plt.xlim(-1, 25) \n",
    "plt.ylim(-1, 200)\n",
    "plt.title('Wind speed vs NO_2 At Wekerom-Riemterdijk (North East)')\n",
    "plt.xlabel('Wind speed')\n",
    "plt.ylabel('NO_2')\n",
    "\n",
    "plt.subplot(1, 3, 2)\n",
    "sns.scatterplot(x='wind_speed', y='no_x', data=df_station4)\n",
    "plt.xlim(-1, 25) \n",
    "plt.ylim(-15, 500)\n",
    "plt.title('Wind speed vs. NO_X At Wekerom-Riemterdijk (North East)')\n",
    "plt.xlabel('wind speed')\n",
    "plt.ylabel('NO_X')\n",
    "\n",
    "plt.subplot(1, 3, 3)\n",
    "sns.scatterplot(x='wind_speed', y='o_3', data=df_station4)\n",
    "plt.xlim(-1, 25) \n",
    "plt.ylim(-15, 300)\n",
    "plt.title('Wind speed vs. O_3 At Wekerom-Riemterdijk (North East)')\n",
    "plt.xlabel('Wind speed')\n",
    "plt.ylabel('O_3')"
   ]
  },
  {
   "cell_type": "markdown",
   "metadata": {},
   "source": [
    "## INTERPRETATION\n",
    "first you see that in all the scatter plots there is a negative relation between the wind speed and the No2 and the Nox\n",
    "\n",
    "in the scatter plots of NO2 you can see that especcially in the north west there is a much higher concentration NO2 in the air. but also in the south west there is a little higher concentration than in the east part of the netherlands. the seaside and the big cities like Amsterdam and Rotterdam will most likely be the main reason for this difference.\n",
    "\n",
    "in the scatter plots of NOX you see kind of the same trends although the difference is here bigger in the windspeed of 5-15 area and the difference is smaller in the lower wind speed area.\n",
    "\n",
    "the scatterplots of the O3 are actually a bit different and you dont see a strong negative relation between the 2 factors. next to that you see that the wind speed at the 2 west stations goes further than the wind speed at the east stations. from there you can say that thats the seaside"
   ]
  },
  {
   "cell_type": "code",
   "execution_count": null,
   "metadata": {},
   "outputs": [],
   "source": [
    "plt.figure(figsize=(15, 6))\n",
    "plt.subplot(1, 2, 1)\n",
    "heatmap_data_no_x = pd.pivot_table(df_station1, values='no_x', index=pd.cut(df_station1['wind_speed'], bins=10), aggfunc='mean')\n",
    "sns.heatmap(heatmap_data_no_x, cmap='viridis', annot=True, fmt=\".2f\")\n",
    "plt.title('Heatmap: Wind Speed vs NOX at De Zilk-Vogelaarsdreef (South West)')\n",
    "plt.xlabel('Wind speed')\n",
    "plt.ylabel('NOX')\n",
    "\n",
    "plt.subplot(1, 2, 2)\n",
    "heatmap_data_no_x = pd.pivot_table(df_station1, values='o_3', index=pd.cut(df_station1['wind_speed'], bins=10), aggfunc='mean')\n",
    "sns.heatmap(heatmap_data_no_x, cmap='viridis', annot=True, fmt=\".2f\")\n",
    "plt.title('Heatmap: Wind Speed vs O_3 at De Zilk-Vogelaarsdreef (South West)')\n",
    "plt.xlabel('Wind speed')\n",
    "plt.ylabel('O3')\n",
    "\n",
    "\n",
    "plt.figure(figsize=(15, 6))\n",
    "plt.subplot(1, 2, 1)\n",
    "heatmap_data_no_x = pd.pivot_table(df_station2, values='no_x', index=pd.cut(df_station2['wind_speed'], bins=10), aggfunc='mean')\n",
    "sns.heatmap(heatmap_data_no_x, cmap='viridis', annot=True, fmt=\".2f\")\n",
    "plt.title('Heatmap: Wind Speed vs NOX at Wieringerwerf-Medemblikkerweg (North West)')\n",
    "plt.xlabel('Wind speed')\n",
    "plt.ylabel('NOX')\n",
    "\n",
    "plt.subplot(1, 2, 2)\n",
    "heatmap_data_no_x = pd.pivot_table(df_station2, values='o_3', index=pd.cut(df_station2['wind_speed'], bins=10), aggfunc='mean')\n",
    "sns.heatmap(heatmap_data_no_x, cmap='viridis', annot=True, fmt=\".2f\")\n",
    "plt.title('Heatmap: Wind Speed vs O_3 at Wieringerwerf-Medemblikkerweg (North West)')\n",
    "plt.xlabel('Wind speed')\n",
    "plt.ylabel('O3')\n",
    "\n",
    "plt.figure(figsize=(15, 6))\n",
    "plt.subplot(1, 2, 1)\n",
    "heatmap_data_no_x = pd.pivot_table(df_station3, values='no_x', index=pd.cut(df_station3['wind_speed'], bins=10), aggfunc='mean')\n",
    "sns.heatmap(heatmap_data_no_x, cmap='viridis', annot=True, fmt=\".2f\")\n",
    "plt.title('Heatmap: Wind Speed vs NOX at Wijnandsrade-Opfergeltstraat (South East)')\n",
    "plt.xlabel('Wind speed')\n",
    "plt.ylabel('NOX')\n",
    "\n",
    "plt.subplot(1, 2, 2)\n",
    "heatmap_data_no_x = pd.pivot_table(df_station3, values='o_3', index=pd.cut(df_station3['wind_speed'], bins=10), aggfunc='mean')\n",
    "sns.heatmap(heatmap_data_no_x, cmap='viridis', annot=True, fmt=\".2f\")\n",
    "plt.title('Heatmap: Wind Speed vs O_3 at Wijnandsrade-Opfergeltstraat (South East)')\n",
    "plt.xlabel('Wind speed')\n",
    "plt.ylabel('O3')\n",
    "\n",
    "plt.figure(figsize=(15, 6))\n",
    "plt.subplot(1, 2, 1)\n",
    "heatmap_data_no_x = pd.pivot_table(df_station4, values='no_x', index=pd.cut(df_station4['wind_speed'], bins=10), aggfunc='mean')\n",
    "sns.heatmap(heatmap_data_no_x, cmap='viridis', annot=True, fmt=\".2f\")\n",
    "plt.title('Heatmap: Wind Speed vs NOX at Wekerom-Riemterdijk (North East)')\n",
    "plt.xlabel('Wind speed')\n",
    "plt.ylabel('NOX')\n",
    "\n",
    "plt.subplot(1, 2, 2)\n",
    "heatmap_data_no_x = pd.pivot_table(df_station4, values='o_3', index=pd.cut(df_station4['wind_speed'], bins=10), aggfunc='mean')\n",
    "sns.heatmap(heatmap_data_no_x, cmap='viridis', annot=True, fmt=\".2f\")\n",
    "plt.title('Heatmap: Wind Speed vs O_3 at Wekerom-Riemterdijk (North East)')\n",
    "plt.xlabel('Wind speed')\n",
    "plt.ylabel('O3')"
   ]
  },
  {
   "cell_type": "markdown",
   "metadata": {},
   "source": [
    "## INTERPRETATION\n",
    "to be honest there is not big of a difference between the stations to show in this NOX heatmaps. there are some small differences but no real patterns where you can see if it depends on north-south or east-west. you can see that they are as well negative related to eachother but there are no big differences between the stations\n",
    "\n",
    "on the other hand you can see a big difference between the heatplots of NOX and O3 where its completly the other way around."
   ]
  },
  {
   "cell_type": "markdown",
   "metadata": {},
   "source": [
    "### HYP\n",
    "\n",
    "• One-sided or two-sided?\n",
    "\n",
    "• One-sample or two-sample?\n",
    "\n",
    "• Equality of means or equality of proportions?\n",
    "\n",
    "• What is your null hypothesis and what is your alternative hypothesis?\n",
    "\n",
    "• What level of significance are you using?\n",
    "\n",
    "• What assumptions do you (need to) make?"
   ]
  },
  {
   "cell_type": "code",
   "execution_count": null,
   "metadata": {},
   "outputs": [],
   "source": []
  },
  {
   "cell_type": "code",
   "execution_count": null,
   "metadata": {},
   "outputs": [],
   "source": []
  },
  {
   "cell_type": "code",
   "execution_count": null,
   "metadata": {},
   "outputs": [],
   "source": []
  },
  {
   "cell_type": "markdown",
   "metadata": {},
   "source": [
    "## Part 4. Polishing and pitching results"
   ]
  },
  {
   "cell_type": "markdown",
   "metadata": {},
   "source": [
    "This section is only for generating figures if you need it. You may leave it empty."
   ]
  },
  {
   "cell_type": "markdown",
   "metadata": {},
   "source": [
    "# Feedback\n",
    "\n",
    "Please fill in this questionaire to help us improve this course for the next year. Your feedback will be anonymized and will not affect your grade in any way!"
   ]
  },
  {
   "cell_type": "markdown",
   "metadata": {},
   "source": [
    "### How many hours did you spend on these exercises?\n",
    "\n",
    "Assign a number to `feedback_time`."
   ]
  },
  {
   "cell_type": "code",
   "execution_count": null,
   "metadata": {},
   "outputs": [],
   "source": [
    "#// BEGIN_FEEDBACK [Feedback_1] (0 point)\n",
    "\n",
    "feedback_time = 20\n",
    "\n",
    "#// END_FEEDBACK [Feedback_1] (0 point)\n",
    "\n",
    "import numbers\n",
    "\n",
    "assert isinstance(feedback_time, numbers.Number), \"Please assign a number to feedback_time\"\n",
    "print(feedback_time)"
   ]
  },
  {
   "cell_type": "markdown",
   "metadata": {},
   "source": [
    "### How difficult did you find these exercises?\n",
    "\n",
    "Assign an integer to `feedback_difficulty`, on a scale 0 - 10, with 0 being very easy, 5 being just right, and 10 being very difficult."
   ]
  },
  {
   "cell_type": "code",
   "execution_count": null,
   "metadata": {},
   "outputs": [],
   "source": [
    "#// BEGIN_FEEDBACK [Feedback_2] (0 point)\n",
    "\n",
    "feedback_difficulty = 7\n",
    "\n",
    "#// END_FEEDBACK [Feedback_2] (0 point)\n",
    "\n",
    "import numbers\n",
    "\n",
    "assert isinstance(feedback_difficulty, numbers.Number), \"Please assign a number to feedback_difficulty\"\n",
    "print(feedback_difficulty)"
   ]
  },
  {
   "cell_type": "markdown",
   "metadata": {},
   "source": [
    "### (Optional) What did you like?\n",
    "\n",
    "Assign a string to `feedback_like`."
   ]
  },
  {
   "cell_type": "code",
   "execution_count": null,
   "metadata": {},
   "outputs": [],
   "source": [
    "#// BEGIN_FEEDBACK [Feedback_3] (0 point)\n",
    "\n",
    "#// END_FEEDBACK [Feedback_3] (0 point)"
   ]
  },
  {
   "cell_type": "markdown",
   "metadata": {},
   "source": [
    "### (Optional) What can be improved?\n",
    "\n",
    "Assign a string to `feedback_improve`. Please be specific, so that we can act on your feedback. For example, mention the specific exercises and what was unclear."
   ]
  },
  {
   "cell_type": "code",
   "execution_count": null,
   "metadata": {},
   "outputs": [],
   "source": [
    "#// BEGIN_FEEDBACK [Feedback_4] (0 point)\n",
    "\n",
    "#// END_FEEDBACK [Feedback_4] (0 point)"
   ]
  },
  {
   "cell_type": "markdown",
   "metadata": {},
   "source": [
    "\n",
    "\n",
    "\n",
    "## How to Submit Your Work\n",
    "\n",
    "1. **Before submitting**, you must run your notebook by doing **Kernel > Restart & Run All**.  \n",
    "   Make sure that your notebook runs without errors **in linear order**.\n",
    "1. Remember to rename the notebook as explained at the beginning of this notebook.\n",
    "1. Submit the executed notebook with your work\n",
    "   for the appropriate assignment in **Canvas**.\n",
    "1. In the **Momotor** tab in Canvas,\n",
    "  you can select that assignment again to find some feedback on your submitted work.\n",
    "  If there are any problems reported by _Momotor_,\n",
    "  then you need to fix those,\n",
    "  and **resubmit the fixed notebook**.\n",
    "\n",
    "In case of a high workload on our server\n",
    "(because many students submit close to the deadline),\n",
    "it may take longer to receive the feedback.\n",
    "\n",
    "\n"
   ]
  },
  {
   "cell_type": "markdown",
   "metadata": {},
   "source": [
    "---"
   ]
  },
  {
   "cell_type": "code",
   "execution_count": null,
   "metadata": {},
   "outputs": [],
   "source": [
    "# List all defined names\n",
    "%whos"
   ]
  },
  {
   "cell_type": "markdown",
   "metadata": {},
   "source": [
    "---\n",
    "\n",
    "# (End of Notebook) <span class=\"tocSkip\"></span>\n",
    "\n",
    "&copy; 2017-2023 - **TU/e** - Eindhoven University of Technology"
   ]
  }
 ],
 "metadata": {
  "anaconda-cloud": {},
  "hide_input": false,
  "kernelspec": {
   "display_name": "Python 3 (ipykernel)",
   "language": "python",
   "name": "python3"
  },
  "language_info": {
   "codemirror_mode": {
    "name": "ipython",
    "version": 3
   },
   "file_extension": ".py",
   "mimetype": "text/x-python",
   "name": "python",
   "nbconvert_exporter": "python",
   "pygments_lexer": "ipython3",
   "version": "3.10.9"
  },
  "toc": {
   "base_numbering": 1,
   "nav_menu": {
    "height": "264px",
    "width": "252px"
   },
   "number_sections": false,
   "sideBar": true,
   "skip_h1_title": false,
   "title_cell": "Table of Contents",
   "title_sidebar": "Contents",
   "toc_cell": true,
   "toc_position": {
    "height": "calc(100% - 180px)",
    "left": "10px",
    "top": "150px",
    "width": "234px"
   },
   "toc_section_display": "block",
   "toc_window_display": true
  },
  "vscode": {
   "interpreter": {
    "hash": "60e5673dee0b20898bfa4f3c497959fb0c8d0d39a7f6ea9d7f166a7012267d3f"
   }
  }
 },
 "nbformat": 4,
 "nbformat_minor": 4
}
